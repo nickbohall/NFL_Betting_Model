{
 "cells": [
  {
   "cell_type": "markdown",
   "metadata": {
    "id": "CEjfA-bh2Ipm"
   },
   "source": [
    "I'm going to try my best to make this functional."
   ]
  },
  {
   "cell_type": "code",
   "execution_count": 5,
   "metadata": {
    "colab": {
     "base_uri": "https://localhost:8080/",
     "height": 1000
    },
    "executionInfo": {
     "elapsed": 28462,
     "status": "ok",
     "timestamp": 1694106492876,
     "user": {
      "displayName": "Nick Bohall",
      "userId": "01569402893739202477"
     },
     "user_tz": 360
    },
    "id": "XZms2AOZ2RYM",
    "outputId": "43256628-1200-413e-c989-acb9320d7d05"
   },
   "outputs": [
    {
     "name": "stdout",
     "output_type": "stream",
     "text": [
      "Requirement already satisfied: pip in /usr/local/lib/python3.10/dist-packages (23.1.2)\n",
      "Collecting pip\n",
      "  Downloading pip-23.2.1-py3-none-any.whl (2.1 MB)\n",
      "\u001b[2K     \u001b[90m━━━━━━━━━━━━━━━━━━━━━━━━━━━━━━━━━━━━━━━━\u001b[0m \u001b[32m2.1/2.1 MB\u001b[0m \u001b[31m8.9 MB/s\u001b[0m eta \u001b[36m0:00:00\u001b[0m\n",
      "\u001b[?25hCollecting setuptools==57.5.0\n",
      "  Downloading setuptools-57.5.0-py3-none-any.whl (819 kB)\n",
      "\u001b[2K     \u001b[90m━━━━━━━━━━━━━━━━━━━━━━━━━━━━━━━━━━━━━━\u001b[0m \u001b[32m819.3/819.3 kB\u001b[0m \u001b[31m18.7 MB/s\u001b[0m eta \u001b[36m0:00:00\u001b[0m\n",
      "\u001b[?25hInstalling collected packages: setuptools, pip\n",
      "  Attempting uninstall: setuptools\n",
      "    Found existing installation: setuptools 67.7.2\n",
      "    Uninstalling setuptools-67.7.2:\n",
      "      Successfully uninstalled setuptools-67.7.2\n",
      "  Attempting uninstall: pip\n",
      "    Found existing installation: pip 23.1.2\n",
      "    Uninstalling pip-23.1.2:\n",
      "      Successfully uninstalled pip-23.1.2\n",
      "\u001b[31mERROR: pip's dependency resolver does not currently take into account all the packages that are installed. This behaviour is the source of the following dependency conflicts.\n",
      "ipython 7.34.0 requires jedi>=0.16, which is not installed.\n",
      "arviz 0.15.1 requires setuptools>=60.0.0, but you have setuptools 57.5.0 which is incompatible.\n",
      "cvxpy 1.3.2 requires setuptools>65.5.1, but you have setuptools 57.5.0 which is incompatible.\u001b[0m\u001b[31m\n",
      "\u001b[0mSuccessfully installed pip-23.2.1 setuptools-57.5.0\n"
     ]
    },
    {
     "data": {
      "application/vnd.colab-display-data+json": {
       "pip_warning": {
        "packages": [
         "_distutils_hack",
         "pkg_resources",
         "setuptools"
        ]
       }
      }
     },
     "metadata": {},
     "output_type": "display_data"
    },
    {
     "name": "stdout",
     "output_type": "stream",
     "text": [
      "Collecting regressors\n",
      "  Downloading regressors-0.0.3.tar.gz (24 kB)\n",
      "  Preparing metadata (setup.py) ... \u001b[?25l\u001b[?25hdone\n",
      "Requirement already satisfied: numpy>=1.6.1 in /usr/local/lib/python3.10/dist-packages (from regressors) (1.23.5)\n",
      "Requirement already satisfied: scipy>=0.9 in /usr/local/lib/python3.10/dist-packages (from regressors) (1.10.1)\n",
      "Requirement already satisfied: matplotlib in /usr/local/lib/python3.10/dist-packages (from regressors) (3.7.1)\n",
      "Requirement already satisfied: scikit-learn>=0.17 in /usr/local/lib/python3.10/dist-packages (from regressors) (1.2.2)\n",
      "Requirement already satisfied: statsmodels>=0.6.1 in /usr/local/lib/python3.10/dist-packages (from regressors) (0.14.0)\n",
      "Requirement already satisfied: seaborn in /usr/local/lib/python3.10/dist-packages (from regressors) (0.12.2)\n",
      "Requirement already satisfied: pandas in /usr/local/lib/python3.10/dist-packages (from regressors) (1.5.3)\n",
      "Requirement already satisfied: joblib>=1.1.1 in /usr/local/lib/python3.10/dist-packages (from scikit-learn>=0.17->regressors) (1.3.2)\n",
      "Requirement already satisfied: threadpoolctl>=2.0.0 in /usr/local/lib/python3.10/dist-packages (from scikit-learn>=0.17->regressors) (3.2.0)\n",
      "Requirement already satisfied: patsy>=0.5.2 in /usr/local/lib/python3.10/dist-packages (from statsmodels>=0.6.1->regressors) (0.5.3)\n",
      "Requirement already satisfied: packaging>=21.3 in /usr/local/lib/python3.10/dist-packages (from statsmodels>=0.6.1->regressors) (23.1)\n",
      "Requirement already satisfied: python-dateutil>=2.8.1 in /usr/local/lib/python3.10/dist-packages (from pandas->regressors) (2.8.2)\n",
      "Requirement already satisfied: pytz>=2020.1 in /usr/local/lib/python3.10/dist-packages (from pandas->regressors) (2023.3.post1)\n",
      "Requirement already satisfied: contourpy>=1.0.1 in /usr/local/lib/python3.10/dist-packages (from matplotlib->regressors) (1.1.0)\n",
      "Requirement already satisfied: cycler>=0.10 in /usr/local/lib/python3.10/dist-packages (from matplotlib->regressors) (0.11.0)\n",
      "Requirement already satisfied: fonttools>=4.22.0 in /usr/local/lib/python3.10/dist-packages (from matplotlib->regressors) (4.42.1)\n",
      "Requirement already satisfied: kiwisolver>=1.0.1 in /usr/local/lib/python3.10/dist-packages (from matplotlib->regressors) (1.4.5)\n",
      "Requirement already satisfied: pillow>=6.2.0 in /usr/local/lib/python3.10/dist-packages (from matplotlib->regressors) (9.4.0)\n",
      "Requirement already satisfied: pyparsing>=2.3.1 in /usr/local/lib/python3.10/dist-packages (from matplotlib->regressors) (3.1.1)\n",
      "Requirement already satisfied: six in /usr/local/lib/python3.10/dist-packages (from patsy>=0.5.2->statsmodels>=0.6.1->regressors) (1.16.0)\n",
      "Building wheels for collected packages: regressors\n",
      "  Building wheel for regressors (setup.py) ... \u001b[?25l\u001b[?25hdone\n",
      "  Created wheel for regressors: filename=regressors-0.0.3-py2.py3-none-any.whl size=12399 sha256=904ee4b313a76294fd892cda2a8a6b70f87dd2e087b076cd1c5865d980fa24e3\n",
      "  Stored in directory: /root/.cache/pip/wheels/85/e8/ec/b8fe5e2d41af2f4760b0d8ce1ae8f01c78df5d1b0883dee2fe\n",
      "Successfully built regressors\n",
      "Installing collected packages: regressors\n",
      "Successfully installed regressors-0.0.3\n",
      "\u001b[33mWARNING: Running pip as the 'root' user can result in broken permissions and conflicting behaviour with the system package manager. It is recommended to use a virtual environment instead: https://pip.pypa.io/warnings/venv\u001b[0m\u001b[33m\n",
      "\u001b[0m"
     ]
    }
   ],
   "source": [
    "#  !pip install --upgrade pip setuptools==57.5.0\n",
    "#  !pip install regressors"
   ]
  },
  {
   "cell_type": "markdown",
   "metadata": {
    "id": "wpKcqZil3a10"
   },
   "source": [
    "# Imports and Housekeeping"
   ]
  },
  {
   "cell_type": "code",
   "execution_count": 2,
   "metadata": {
    "colab": {
     "base_uri": "https://localhost:8080/"
    },
    "executionInfo": {
     "elapsed": 1123,
     "status": "ok",
     "timestamp": 1694106593893,
     "user": {
      "displayName": "Nick Bohall",
      "userId": "01569402893739202477"
     },
     "user_tz": 360
    },
    "id": "FGE21HDo2MRD",
    "outputId": "9bc1c693-65cd-4d48-cf9d-fc5a3c2f8c5d"
   },
   "outputs": [],
   "source": [
    "# Basic Packages\n",
    "import pandas as pd\n",
    "import numpy as np\n",
    "from functools import reduce\n",
    "from datetime import datetime as dt\n",
    "\n",
    "# Visualizations\n",
    "import seaborn as sns\n",
    "import plotly.express as px\n",
    "import matplotlib.pyplot as plt\n",
    "\n",
    "# Modeling\n",
    "from sklearn.preprocessing import StandardScaler, PolynomialFeatures, MinMaxScaler\n",
    "from sklearn.linear_model import LinearRegression, LogisticRegression\n",
    "from sklearn.model_selection import train_test_split\n",
    "from sklearn.metrics import mean_squared_error, r2_score\n",
    "from regressors import stats\n",
    "import statsmodels.api as sm\n",
    "\n",
    "# Neural Net stuff\n",
    "import tensorflow as tf\n",
    "from tensorflow.keras.models import Sequential\n",
    "from tensorflow.keras.layers import Dense\n",
    "\n",
    "# for building and training neural networks\n",
    "import tensorflow as tf\n",
    "\n",
    "# custom functions"
   ]
  },
  {
   "cell_type": "code",
   "execution_count": 3,
   "metadata": {
    "colab": {
     "base_uri": "https://localhost:8080/"
    },
    "executionInfo": {
     "elapsed": 2,
     "status": "ok",
     "timestamp": 1694106593893,
     "user": {
      "displayName": "Nick Bohall",
      "userId": "01569402893739202477"
     },
     "user_tz": 360
    },
    "id": "0ibBkVFZ2Pvr",
    "outputId": "eb1119d1-d2fc-414f-85ed-2f9276ee8f1e"
   },
   "outputs": [
    {
     "name": "stderr",
     "output_type": "stream",
     "text": [
      "C:\\Users\\Sleepycornbread\\AppData\\Local\\Temp\\ipykernel_25624\\4246722715.py:2: MatplotlibDeprecationWarning: The seaborn styles shipped by Matplotlib are deprecated since 3.6, as they no longer correspond to the styles shipped by seaborn. However, they will remain available as 'seaborn-v0_8-<style>'. Alternatively, directly use the seaborn API instead.\n",
      "  plt.style.use('seaborn')\n"
     ]
    }
   ],
   "source": [
    "pd.options.display.float_format = '{:,.2f}'.format\n",
    "plt.style.use('seaborn')\n",
    "plt.rcParams['figure.figsize'] = (12,8)\n",
    "pd.set_option('display.max_columns', 15)\n",
    "pd.set_option('display.max_rows', 50)\n",
    "\n",
    "# reduce display precision on numpy arrays\n",
    "np.set_printoptions(precision=2)\n",
    "\n",
    "# suppress warnings\n",
    "tf.get_logger().setLevel('ERROR')\n",
    "tf.autograph.set_verbosity(0)"
   ]
  },
  {
   "cell_type": "markdown",
   "metadata": {
    "id": "kFF9upv-3en5"
   },
   "source": [
    "# Get Data"
   ]
  },
  {
   "cell_type": "markdown",
   "metadata": {
    "id": "TwXL2s-EFAa5"
   },
   "source": [
    "This is from a python API. All of the API work and data manipulation was done in PyCharm and can be found on Github"
   ]
  },
  {
   "cell_type": "code",
   "execution_count": 4,
   "metadata": {
    "executionInfo": {
     "elapsed": 1,
     "status": "ok",
     "timestamp": 1694106594580,
     "user": {
      "displayName": "Nick Bohall",
      "userId": "01569402893739202477"
     },
     "user_tz": 360
    },
    "id": "5oPBdqsU3LBp"
   },
   "outputs": [],
   "source": [
    "df = pd.read_csv(\"Data/Model Data/final_data.csv\", index_col=0)\n",
    "min_max_scaler = MinMaxScaler()"
   ]
  },
  {
   "cell_type": "code",
   "execution_count": 14,
   "metadata": {
    "colab": {
     "base_uri": "https://localhost:8080/"
    },
    "executionInfo": {
     "elapsed": 207,
     "status": "ok",
     "timestamp": 1694106596935,
     "user": {
      "displayName": "Nick Bohall",
      "userId": "01569402893739202477"
     },
     "user_tz": 360
    },
    "id": "0AIwFC3C3ly1",
    "outputId": "28d496dd-2111-4463-aa74-ec71af55e151"
   },
   "outputs": [
    {
     "data": {
      "text/plain": [
       "Index(['game_id', 'season', 'week', 'team', 'opponent', 'score', 'home',\n",
       "       'ewma_dynamic_window_rushing_offense_team',\n",
       "       'ewma_dynamic_window_passing_offense_team',\n",
       "       'ewma_dynamic_window_rushing_defense_team',\n",
       "       'ewma_dynamic_window_passing_defense_team',\n",
       "       'ewma_dynamic_window_rushing_offense_opp',\n",
       "       'ewma_dynamic_window_passing_offense_opp',\n",
       "       'ewma_dynamic_window_rushing_defense_opp',\n",
       "       'ewma_dynamic_window_passing_defense_opp', 'team_id',\n",
       "       'rest_differential', 'windy', 'div_game', 'spread_line',\n",
       "       'implied_points', 'total_line', 'game_type', 'location', 'total'],\n",
       "      dtype='object')"
      ]
     },
     "execution_count": 14,
     "metadata": {},
     "output_type": "execute_result"
    }
   ],
   "source": [
    "df.columns\n"
   ]
  },
  {
   "cell_type": "markdown",
   "metadata": {
    "id": "Z1fy6VFT3r36"
   },
   "source": [
    "# Creating Functions for model setup, modeling, and charting"
   ]
  },
  {
   "cell_type": "markdown",
   "metadata": {
    "id": "xYLTpLzy_uXE"
   },
   "source": [
    "Creating two functions. 1 that graphs a model, and one that creates the model. The graph will just be a helper function in the modeling function. This is just for linear regression"
   ]
  },
  {
   "cell_type": "code",
   "execution_count": 7,
   "metadata": {
    "executionInfo": {
     "elapsed": 284,
     "status": "ok",
     "timestamp": 1694107147725,
     "user": {
      "displayName": "Nick Bohall",
      "userId": "01569402893739202477"
     },
     "user_tz": 360
    },
    "id": "S8Oh9SwAAm9x"
   },
   "outputs": [],
   "source": [
    "def graph_linear_model(y_pred, y_test, r2=\"NA\", mse=\"NA\", title=\"NA\", xlabel=\"NA\", ylabel=\"NA\"):\n",
    "  # set x and y\n",
    "  x = y_pred.flatten()\n",
    "  y = y_test\n",
    "\n",
    "  # calculate equation for trendline\n",
    "  z = np.polyfit(x, y, 1)\n",
    "  p = np.poly1d(z)\n",
    "\n",
    "  # Create the subplot function\n",
    "  fig, ax = plt.subplots()\n",
    "\n",
    "  # Plot the scatter\n",
    "  ax.scatter(x,y)\n",
    "\n",
    "  # Plot the trendline\n",
    "  ax.plot(x, p(x), color=\"red\")\n",
    "\n",
    "  # Titles and axes\n",
    "  plt.title(title)\n",
    "  plt.xlabel(xlabel)\n",
    "  plt.ylabel(ylabel)\n",
    "\n",
    "  # Plotting some text\n",
    "  plt.annotate('R-squared = %0.4f' % r2, xy=(0.025, 0.95), xycoords='axes fraction')\n",
    "  plt.annotate(\"y = %.2fx + %.2f\"%(z[0],z[1]), xy=(0.025, 0.90), xycoords='axes fraction')\n",
    "  plt.annotate(f\"MSE = {mse: .3f}\", xy=(0.025, 0.85), xycoords='axes fraction')"
   ]
  },
  {
   "cell_type": "code",
   "execution_count": 8,
   "metadata": {
    "executionInfo": {
     "elapsed": 1,
     "status": "ok",
     "timestamp": 1694106598646,
     "user": {
      "displayName": "Nick Bohall",
      "userId": "01569402893739202477"
     },
     "user_tz": 360
    },
    "id": "rrpNe6pqfP05"
   },
   "outputs": [],
   "source": [
    "def make_predictions(df, clf, features):\n",
    "  df_2020 = df.loc[(df['season'] == 2020)].assign(\n",
    "    predicted_winner = lambda x: clf.predict(x[features]),\n",
    "    home_team_win_probability = lambda x: clf.predict_proba(x[features])[:, 1]\n",
    "  )\\\n",
    "  [['home_team', 'away_team', 'week', 'predicted_winner', 'home_team_win_probability', 'home_team_win']]\n",
    "\n",
    "  df_2020['actual_winner'] = df_2020.apply(lambda x: x.home_team if x.home_team_win else x.away_team, axis=1)\n",
    "  df_2020['predicted_winner'] = df_2020.apply(lambda x: x.home_team if x.predicted_winner == 1 else x.away_team, axis=1)\n",
    "  df_2020['win_probability'] = df_2020.apply(lambda x: x.home_team_win_probability if x.predicted_winner == x.home_team else 1 - x.home_team_win_probability, axis=1)\n",
    "  df_2020['correct_prediction'] = (df_2020['predicted_winner'] == df_2020['actual_winner']).astype(int)\n",
    "\n",
    "  df_2020 = df_2020.drop(columns=['home_team_win_probability', 'home_team_win'])\n",
    "\n",
    "  df_2020.sort_values(by='win_probability', ascending=False).reset_index(drop=True).head(10)\n",
    "  df_2020.sort_values(by='win_probability', ascending=False, inplace=True)\n",
    "  return df_2020"
   ]
  },
  {
   "cell_type": "code",
   "execution_count": 9,
   "metadata": {
    "executionInfo": {
     "elapsed": 199,
     "status": "ok",
     "timestamp": 1694107048532,
     "user": {
      "displayName": "Nick Bohall",
      "userId": "01569402893739202477"
     },
     "user_tz": 360
    },
    "id": "ENPjcyec3mTv"
   },
   "outputs": [],
   "source": [
    "def linear_regression(df, target, feature_list, title=\"\", xlabel=\"\", ylabel=\"\"):\n",
    "  # Dropping NA's and the 2020 season because covid and testing\n",
    "  df_l = df.dropna(inplace=True)\n",
    "  df_l = df.loc[df['season'] != 2020]\n",
    "  print(df_l.isna().values.any())\n",
    "\n",
    "  # Defining features & target\n",
    "  x = np.array(df_l[feature_list])\n",
    "  y = np.array(df_l[target])\n",
    "\n",
    "  # Normalizing the Data\n",
    "  x_scaled = min_max_scaler.fit_transform(x)\n",
    "\n",
    "  # Creating train test split. Test will be 20% of the data\n",
    "  X_train, X_test, y_train, y_test = train_test_split(x_scaled, y, test_size=0.2, random_state=10)\n",
    "\n",
    "  # Create Regression object and fit\n",
    "  clf = LinearRegression()\n",
    "  clf.fit(X_train, y_train)\n",
    "\n",
    "  # Make a prediction based on the fit. Use X_test (20% of the data)\n",
    "  y_pred = clf.predict(X_test)\n",
    "\n",
    "  # Get some info about the coefficients and how they're impacting the model\n",
    "  mod = sm.OLS(y_train,X_train)\n",
    "  fii = mod.fit()\n",
    "\n",
    "  # Getting some info for graphing later\n",
    "  r2 = fii.rsquared\n",
    "  mse = mean_squared_error(y_pred, y_test)\n",
    "\n",
    "  summary = fii.summary()\n",
    "\n",
    "  # Call graphing function to output graph\n",
    "  graph_linear_model(y_pred, y_test, r2, mse, title, xlabel, ylabel)\n",
    "\n",
    "  return summary"
   ]
  },
  {
   "cell_type": "code",
   "execution_count": 10,
   "metadata": {
    "executionInfo": {
     "elapsed": 1,
     "status": "ok",
     "timestamp": 1694106599310,
     "user": {
      "displayName": "Nick Bohall",
      "userId": "01569402893739202477"
     },
     "user_tz": 360
    },
    "id": "9tfu05xcXH6p"
   },
   "outputs": [],
   "source": [
    "def logistic_regression(df, target, feature_list, title=\"\", xlabel=\"\", ylabel=\"\"):\n",
    "    # Dropping NA's and the 2020 season because covid and testing\n",
    "    df_l = df.dropna(inplace=True)\n",
    "    df_l = df.loc[df['season'] != 2020]\n",
    "\n",
    "    # Defining features & target\n",
    "    x = df_l[target]\n",
    "    y = df_l[feature_list]\n",
    "\n",
    "    # Creating train test split. Test will be 20% of the data\n",
    "    X_train, X_test, y_train, y_test = train_test_split(y, x, test_size=0.2, random_state=10)\n",
    "\n",
    "    # Create Regression object and fit\n",
    "    clf = LogisticRegression()\n",
    "    clf.fit(X_train, y_train)\n",
    "\n",
    "    # Make a prediction based on the fit. Use X_test (20% of the data)\n",
    "    y_pred = clf.predict(X_test)\n",
    "\n",
    "    # Get some info about the coefficients and how they're impacting the model\n",
    "    mod = sm.Logit(y_train,X_train)\n",
    "    fii = mod.fit()\n",
    "\n",
    "    # Getting some info for graphing later\n",
    "    mse = mean_squared_error(y_pred, y_test)\n",
    "\n",
    "    summary = fii.summary()\n",
    "\n",
    "    # Plotting - we don't need a separate function for this one\n",
    "    sns.regplot(x=y_pred, y=y_test, data=df, logistic=True)\n",
    "\n",
    "    # Call make predicitons function\n",
    "    predictions = make_predictions(df, clf, features=feature_list)\n",
    "\n",
    "    return summary, predictions"
   ]
  },
  {
   "cell_type": "markdown",
   "metadata": {
    "id": "KYp0bbiVFL_D"
   },
   "source": [
    "Okay, we created the functions. Now lets define the feature list for the spread model and the total model. These can now easily be adjusted to add or remove variables"
   ]
  },
  {
   "cell_type": "code",
   "execution_count": 11,
   "metadata": {
    "executionInfo": {
     "elapsed": 1,
     "status": "ok",
     "timestamp": 1694106599952,
     "user": {
      "displayName": "Nick Bohall",
      "userId": "01569402893739202477"
     },
     "user_tz": 360
    },
    "id": "3Sqku3BM46NH"
   },
   "outputs": [],
   "source": [
    "spread_feature_list = ['ewma_dynamic_window_rushing_offense_team',\n",
    "       'ewma_dynamic_window_passing_offense_team',\n",
    "       'ewma_dynamic_window_rushing_defense_opp',\n",
    "       'ewma_dynamic_window_passing_defense_opp',\n",
    "       'home', 'rest_differential', 'windy', 'div_game' ]"
   ]
  },
  {
   "cell_type": "markdown",
   "metadata": {
    "id": "HoSoCUCHFS-b"
   },
   "source": [
    "Great, now we can just use our function to run different models for our predictions and then compare to the vegas line. Our goal is to beat their line"
   ]
  },
  {
   "cell_type": "code",
   "execution_count": 12,
   "metadata": {
    "colab": {
     "base_uri": "https://localhost:8080/",
     "height": 1000
    },
    "executionInfo": {
     "elapsed": 1167,
     "status": "ok",
     "timestamp": 1694107199328,
     "user": {
      "displayName": "Nick Bohall",
      "userId": "01569402893739202477"
     },
     "user_tz": 360
    },
    "id": "Ks7CACv55pDj",
    "outputId": "9bf8392f-bd2f-466b-9774-05f4fa635292"
   },
   "outputs": [
    {
     "name": "stdout",
     "output_type": "stream",
     "text": [
      "False\n"
     ]
    },
    {
     "data": {
      "text/html": [
       "<table class=\"simpletable\">\n",
       "<caption>OLS Regression Results</caption>\n",
       "<tr>\n",
       "  <th>Dep. Variable:</th>            <td>y</td>        <th>  R-squared (uncentered):</th>      <td>   0.851</td>\n",
       "</tr>\n",
       "<tr>\n",
       "  <th>Model:</th>                   <td>OLS</td>       <th>  Adj. R-squared (uncentered):</th> <td>   0.850</td>\n",
       "</tr>\n",
       "<tr>\n",
       "  <th>Method:</th>             <td>Least Squares</td>  <th>  F-statistic:       </th>          <td>   613.8</td>\n",
       "</tr>\n",
       "<tr>\n",
       "  <th>Date:</th>             <td>Thu, 07 Sep 2023</td> <th>  Prob (F-statistic):</th>           <td>  0.00</td> \n",
       "</tr>\n",
       "<tr>\n",
       "  <th>Time:</th>                 <td>12:33:31</td>     <th>  Log-Likelihood:    </th>          <td> -3182.7</td>\n",
       "</tr>\n",
       "<tr>\n",
       "  <th>No. Observations:</th>      <td>   868</td>      <th>  AIC:               </th>          <td>   6381.</td>\n",
       "</tr>\n",
       "<tr>\n",
       "  <th>Df Residuals:</th>          <td>   860</td>      <th>  BIC:               </th>          <td>   6419.</td>\n",
       "</tr>\n",
       "<tr>\n",
       "  <th>Df Model:</th>              <td>     8</td>      <th>                     </th>              <td> </td>   \n",
       "</tr>\n",
       "<tr>\n",
       "  <th>Covariance Type:</th>      <td>nonrobust</td>    <th>                     </th>              <td> </td>   \n",
       "</tr>\n",
       "</table>\n",
       "<table class=\"simpletable\">\n",
       "<tr>\n",
       "   <td></td>     <th>coef</th>     <th>std err</th>      <th>t</th>      <th>P>|t|</th>  <th>[0.025</th>    <th>0.975]</th>  \n",
       "</tr>\n",
       "<tr>\n",
       "  <th>x1</th> <td>    8.4954</td> <td>    1.974</td> <td>    4.305</td> <td> 0.000</td> <td>    4.622</td> <td>   12.369</td>\n",
       "</tr>\n",
       "<tr>\n",
       "  <th>x2</th> <td>   20.5226</td> <td>    2.037</td> <td>   10.074</td> <td> 0.000</td> <td>   16.524</td> <td>   24.521</td>\n",
       "</tr>\n",
       "<tr>\n",
       "  <th>x3</th> <td>   -0.2209</td> <td>    1.956</td> <td>   -0.113</td> <td> 0.910</td> <td>   -4.061</td> <td>    3.619</td>\n",
       "</tr>\n",
       "<tr>\n",
       "  <th>x4</th> <td>    7.7621</td> <td>    2.142</td> <td>    3.624</td> <td> 0.000</td> <td>    3.558</td> <td>   11.966</td>\n",
       "</tr>\n",
       "<tr>\n",
       "  <th>x5</th> <td>    2.2402</td> <td>    0.643</td> <td>    3.485</td> <td> 0.001</td> <td>    0.978</td> <td>    3.502</td>\n",
       "</tr>\n",
       "<tr>\n",
       "  <th>x6</th> <td>    1.7842</td> <td>    2.049</td> <td>    0.871</td> <td> 0.384</td> <td>   -2.237</td> <td>    5.806</td>\n",
       "</tr>\n",
       "<tr>\n",
       "  <th>x7</th> <td>   -3.6934</td> <td>    1.292</td> <td>   -2.858</td> <td> 0.004</td> <td>   -6.230</td> <td>   -1.157</td>\n",
       "</tr>\n",
       "<tr>\n",
       "  <th>x8</th> <td>   -0.6727</td> <td>    0.668</td> <td>   -1.007</td> <td> 0.314</td> <td>   -1.984</td> <td>    0.639</td>\n",
       "</tr>\n",
       "</table>\n",
       "<table class=\"simpletable\">\n",
       "<tr>\n",
       "  <th>Omnibus:</th>       <td> 6.660</td> <th>  Durbin-Watson:     </th> <td>   2.065</td>\n",
       "</tr>\n",
       "<tr>\n",
       "  <th>Prob(Omnibus):</th> <td> 0.036</td> <th>  Jarque-Bera (JB):  </th> <td>   6.543</td>\n",
       "</tr>\n",
       "<tr>\n",
       "  <th>Skew:</th>          <td> 0.197</td> <th>  Prob(JB):          </th> <td>  0.0379</td>\n",
       "</tr>\n",
       "<tr>\n",
       "  <th>Kurtosis:</th>      <td> 3.161</td> <th>  Cond. No.          </th> <td>    10.5</td>\n",
       "</tr>\n",
       "</table><br/><br/>Notes:<br/>[1] R² is computed without centering (uncentered) since the model does not contain a constant.<br/>[2] Standard Errors assume that the covariance matrix of the errors is correctly specified."
      ],
      "text/latex": [
       "\\begin{center}\n",
       "\\begin{tabular}{lclc}\n",
       "\\toprule\n",
       "\\textbf{Dep. Variable:}    &        y         & \\textbf{  R-squared (uncentered):}      &     0.851   \\\\\n",
       "\\textbf{Model:}            &       OLS        & \\textbf{  Adj. R-squared (uncentered):} &     0.850   \\\\\n",
       "\\textbf{Method:}           &  Least Squares   & \\textbf{  F-statistic:       }          &     613.8   \\\\\n",
       "\\textbf{Date:}             & Thu, 07 Sep 2023 & \\textbf{  Prob (F-statistic):}          &     0.00    \\\\\n",
       "\\textbf{Time:}             &     12:33:31     & \\textbf{  Log-Likelihood:    }          &   -3182.7   \\\\\n",
       "\\textbf{No. Observations:} &         868      & \\textbf{  AIC:               }          &     6381.   \\\\\n",
       "\\textbf{Df Residuals:}     &         860      & \\textbf{  BIC:               }          &     6419.   \\\\\n",
       "\\textbf{Df Model:}         &           8      & \\textbf{                     }          &             \\\\\n",
       "\\textbf{Covariance Type:}  &    nonrobust     & \\textbf{                     }          &             \\\\\n",
       "\\bottomrule\n",
       "\\end{tabular}\n",
       "\\begin{tabular}{lcccccc}\n",
       "            & \\textbf{coef} & \\textbf{std err} & \\textbf{t} & \\textbf{P$> |$t$|$} & \\textbf{[0.025} & \\textbf{0.975]}  \\\\\n",
       "\\midrule\n",
       "\\textbf{x1} &       8.4954  &        1.974     &     4.305  &         0.000        &        4.622    &       12.369     \\\\\n",
       "\\textbf{x2} &      20.5226  &        2.037     &    10.074  &         0.000        &       16.524    &       24.521     \\\\\n",
       "\\textbf{x3} &      -0.2209  &        1.956     &    -0.113  &         0.910        &       -4.061    &        3.619     \\\\\n",
       "\\textbf{x4} &       7.7621  &        2.142     &     3.624  &         0.000        &        3.558    &       11.966     \\\\\n",
       "\\textbf{x5} &       2.2402  &        0.643     &     3.485  &         0.001        &        0.978    &        3.502     \\\\\n",
       "\\textbf{x6} &       1.7842  &        2.049     &     0.871  &         0.384        &       -2.237    &        5.806     \\\\\n",
       "\\textbf{x7} &      -3.6934  &        1.292     &    -2.858  &         0.004        &       -6.230    &       -1.157     \\\\\n",
       "\\textbf{x8} &      -0.6727  &        0.668     &    -1.007  &         0.314        &       -1.984    &        0.639     \\\\\n",
       "\\bottomrule\n",
       "\\end{tabular}\n",
       "\\begin{tabular}{lclc}\n",
       "\\textbf{Omnibus:}       &  6.660 & \\textbf{  Durbin-Watson:     } &    2.065  \\\\\n",
       "\\textbf{Prob(Omnibus):} &  0.036 & \\textbf{  Jarque-Bera (JB):  } &    6.543  \\\\\n",
       "\\textbf{Skew:}          &  0.197 & \\textbf{  Prob(JB):          } &   0.0379  \\\\\n",
       "\\textbf{Kurtosis:}      &  3.161 & \\textbf{  Cond. No.          } &     10.5  \\\\\n",
       "\\bottomrule\n",
       "\\end{tabular}\n",
       "%\\caption{OLS Regression Results}\n",
       "\\end{center}\n",
       "\n",
       "Notes: \\newline\n",
       " [1] R² is computed without centering (uncentered) since the model does not contain a constant. \\newline\n",
       " [2] Standard Errors assume that the covariance matrix of the errors is correctly specified."
      ],
      "text/plain": [
       "<class 'statsmodels.iolib.summary.Summary'>\n",
       "\"\"\"\n",
       "                                 OLS Regression Results                                \n",
       "=======================================================================================\n",
       "Dep. Variable:                      y   R-squared (uncentered):                   0.851\n",
       "Model:                            OLS   Adj. R-squared (uncentered):              0.850\n",
       "Method:                 Least Squares   F-statistic:                              613.8\n",
       "Date:                Thu, 07 Sep 2023   Prob (F-statistic):                        0.00\n",
       "Time:                        12:33:31   Log-Likelihood:                         -3182.7\n",
       "No. Observations:                 868   AIC:                                      6381.\n",
       "Df Residuals:                     860   BIC:                                      6419.\n",
       "Df Model:                           8                                                  \n",
       "Covariance Type:            nonrobust                                                  \n",
       "==============================================================================\n",
       "                 coef    std err          t      P>|t|      [0.025      0.975]\n",
       "------------------------------------------------------------------------------\n",
       "x1             8.4954      1.974      4.305      0.000       4.622      12.369\n",
       "x2            20.5226      2.037     10.074      0.000      16.524      24.521\n",
       "x3            -0.2209      1.956     -0.113      0.910      -4.061       3.619\n",
       "x4             7.7621      2.142      3.624      0.000       3.558      11.966\n",
       "x5             2.2402      0.643      3.485      0.001       0.978       3.502\n",
       "x6             1.7842      2.049      0.871      0.384      -2.237       5.806\n",
       "x7            -3.6934      1.292     -2.858      0.004      -6.230      -1.157\n",
       "x8            -0.6727      0.668     -1.007      0.314      -1.984       0.639\n",
       "==============================================================================\n",
       "Omnibus:                        6.660   Durbin-Watson:                   2.065\n",
       "Prob(Omnibus):                  0.036   Jarque-Bera (JB):                6.543\n",
       "Skew:                           0.197   Prob(JB):                       0.0379\n",
       "Kurtosis:                       3.161   Cond. No.                         10.5\n",
       "==============================================================================\n",
       "\n",
       "Notes:\n",
       "[1] R² is computed without centering (uncentered) since the model does not contain a constant.\n",
       "[2] Standard Errors assume that the covariance matrix of the errors is correctly specified.\n",
       "\"\"\""
      ]
     },
     "execution_count": 12,
     "metadata": {},
     "output_type": "execute_result"
    },
    {
     "data": {
      "image/png": "[encoded data removed]",
      "text/plain": [
       "<Figure size 1200x800 with 1 Axes>"
      ]
     },
     "metadata": {},
     "output_type": "display_data"
    }
   ],
   "source": [
    "linR_spread_model = linear_regression(df, target=\"score\", feature_list=spread_feature_list,\n",
    "                                             title=\"NFL Linear Regression spread predictions - Model\",\n",
    "                                             xlabel=\"Model Predicted Implied Points\", ylabel=\"Actual Score\")\n",
    "linR_spread_model"
   ]
  }
 ],
 "metadata": {
  "colab": {
   "authorship_tag": "ABX9TyO5a9fUvbbQw9R0pFL2GFyA",
   "mount_file_id": "1ffuLmDcSzjEqhUTu6tpDHhesh2sTeDTs",
   "provenance": []
  },
  "kernelspec": {
   "display_name": "Python 3 (ipykernel)",
   "language": "python",
   "name": "python3"
  },
  "language_info": {
   "codemirror_mode": {
    "name": "ipython",
    "version": 3
   },
   "file_extension": ".py",
   "mimetype": "text/x-python",
   "name": "python",
   "nbconvert_exporter": "python",
   "pygments_lexer": "ipython3",
   "version": "3.11.1"
  }
 },
 "nbformat": 4,
 "nbformat_minor": 4
}
