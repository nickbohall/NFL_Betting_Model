{
 "cells": [
  {
   "cell_type": "markdown",
   "metadata": {
    "id": "LpUM6dTI158V"
   },
   "source": [
    "This is the data setup for an NFL machine learning model. This file will be for the data ingestion and transformation, and I will have multiple other files for different types of modeling."
   ]
  },
  {
   "cell_type": "markdown",
   "metadata": {
    "id": "DRCrepC62J8h"
   },
   "source": [
    "# Imports & Housekeeping"
   ]
  },
  {
   "cell_type": "code",
   "execution_count": 1,
   "metadata": {
    "colab": {
     "base_uri": "https://localhost:8080/"
    },
    "executionInfo": {
     "elapsed": 17680,
     "status": "ok",
     "timestamp": 1693942974679,
     "user": {
      "displayName": "Nick Bohall",
      "userId": "01569402893739202477"
     },
     "user_tz": 360
    },
    "id": "WSFX4AbH2MOh",
    "outputId": "b3e40bf0-afa1-463e-b918-26c70668f6b6"
   },
   "outputs": [],
   "source": [
    "# Basic Packages\n",
    "import pandas as pd\n",
    "import numpy as np\n",
    "from functools import reduce\n",
    "from datetime import datetime as dt\n",
    "\n",
    "# Visualizations\n",
    "import seaborn as sns\n",
    "import plotly.express as px\n",
    "import matplotlib.pyplot as plt\n",
    "\n",
    "# Modeling\n",
    "from sklearn.linear_model import LinearRegression\n",
    "from sklearn.model_selection import train_test_split\n",
    "from sklearn.metrics import mean_squared_error, r2_score"
   ]
  },
  {
   "cell_type": "code",
   "execution_count": 2,
   "metadata": {
    "executionInfo": {
     "elapsed": 3,
     "status": "ok",
     "timestamp": 1693942974680,
     "user": {
      "displayName": "Nick Bohall",
      "userId": "01569402893739202477"
     },
     "user_tz": 360
    },
    "id": "Yv20Mt112dni"
   },
   "outputs": [],
   "source": [
    "# Notebook display options\n",
    "pd.options.display.float_format = '{:,.2f}'.format\n",
    "plt.style.use('ggplot')\n",
    "plt.rcParams['figure.figsize'] = (12,8)\n",
    "pd.set_option('display.max_columns', 15)\n",
    "pd.set_option('display.max_rows', 50)"
   ]
  },
  {
   "cell_type": "markdown",
   "metadata": {
    "id": "ZqC1QyY92l27"
   },
   "source": [
    "# Data Import"
   ]
  },
  {
   "cell_type": "markdown",
   "metadata": {
    "id": "8NzLixTn2oS9"
   },
   "source": [
    "This is not the full raw data. This data was acquired in it's raw form from nfl_data_py api. Transformations and EPA calculations were done in Pycharm because of easier access to classes, functions, etc. At this point, Google Notebooks is a better place for the modeling. Credit: https://github.com/cooperdff/nfl_data_py."
   ]
  },
  {
   "cell_type": "code",
   "execution_count": 4,
   "metadata": {
    "executionInfo": {
     "elapsed": 446,
     "status": "ok",
     "timestamp": 1693943077445,
     "user": {
      "displayName": "Nick Bohall",
      "userId": "01569402893739202477"
     },
     "user_tz": 360
    },
    "id": "-DOdKJDD2kYE"
   },
   "outputs": [],
   "source": [
    "nfl_api = pd.read_csv(\"../API Data Out/data_2020_to_2023.csv\", index_col=0)\n",
    "schedule = pd.read_csv(\"../API Data Out/schedule_2020_to_2023.csv\", index_col=0)"
   ]
  },
  {
   "cell_type": "code",
   "execution_count": 6,
   "metadata": {
    "colab": {
     "base_uri": "https://localhost:8080/",
     "height": 443
    },
    "executionInfo": {
     "elapsed": 2,
     "status": "ok",
     "timestamp": 1693943078168,
     "user": {
      "displayName": "Nick Bohall",
      "userId": "01569402893739202477"
     },
     "user_tz": 360
    },
    "id": "PLMG8RNX2izV",
    "outputId": "6eb2145d-55ad-4b31-b849-87c69754b986"
   },
   "outputs": [
    {
     "data": {
      "text/html": [
       "<div>\n",
       "<style scoped>\n",
       "    .dataframe tbody tr th:only-of-type {\n",
       "        vertical-align: middle;\n",
       "    }\n",
       "\n",
       "    .dataframe tbody tr th {\n",
       "        vertical-align: top;\n",
       "    }\n",
       "\n",
       "    .dataframe thead th {\n",
       "        text-align: right;\n",
       "    }\n",
       "</style>\n",
       "<table border=\"1\" class=\"dataframe\">\n",
       "  <thead>\n",
       "    <tr style=\"text-align: right;\">\n",
       "      <th></th>\n",
       "      <th>game_id</th>\n",
       "      <th>season</th>\n",
       "      <th>week</th>\n",
       "      <th>home_team</th>\n",
       "      <th>away_team</th>\n",
       "      <th>home_score</th>\n",
       "      <th>score_diff</th>\n",
       "      <th>...</th>\n",
       "      <th>ewma_dynamic_window_passing_offense_home</th>\n",
       "      <th>ewma_dynamic_window_rushing_defense_home</th>\n",
       "      <th>ewma_dynamic_window_passing_defense_home</th>\n",
       "      <th>ewma_dynamic_window_rushing_offense_away</th>\n",
       "      <th>ewma_dynamic_window_passing_offense_away</th>\n",
       "      <th>ewma_dynamic_window_rushing_defense_away</th>\n",
       "      <th>ewma_dynamic_window_passing_defense_away</th>\n",
       "    </tr>\n",
       "  </thead>\n",
       "  <tbody>\n",
       "    <tr>\n",
       "      <th>869</th>\n",
       "      <td>2023_02_WAS_DEN</td>\n",
       "      <td>2023</td>\n",
       "      <td>2</td>\n",
       "      <td>DEN</td>\n",
       "      <td>WAS</td>\n",
       "      <td>33</td>\n",
       "      <td>-2</td>\n",
       "      <td>...</td>\n",
       "      <td>-0.10</td>\n",
       "      <td>-0.16</td>\n",
       "      <td>0.17</td>\n",
       "      <td>-0.10</td>\n",
       "      <td>-0.17</td>\n",
       "      <td>-0.19</td>\n",
       "      <td>-0.09</td>\n",
       "    </tr>\n",
       "    <tr>\n",
       "      <th>868</th>\n",
       "      <td>2023_02_SF_LA</td>\n",
       "      <td>2023</td>\n",
       "      <td>2</td>\n",
       "      <td>LA</td>\n",
       "      <td>SF</td>\n",
       "      <td>23</td>\n",
       "      <td>-7</td>\n",
       "      <td>...</td>\n",
       "      <td>-0.02</td>\n",
       "      <td>-0.01</td>\n",
       "      <td>-0.02</td>\n",
       "      <td>-0.08</td>\n",
       "      <td>0.17</td>\n",
       "      <td>-0.07</td>\n",
       "      <td>-0.15</td>\n",
       "    </tr>\n",
       "    <tr>\n",
       "      <th>867</th>\n",
       "      <td>2023_02_SEA_DET</td>\n",
       "      <td>2023</td>\n",
       "      <td>2</td>\n",
       "      <td>DET</td>\n",
       "      <td>SEA</td>\n",
       "      <td>31</td>\n",
       "      <td>-6</td>\n",
       "      <td>...</td>\n",
       "      <td>0.21</td>\n",
       "      <td>0.01</td>\n",
       "      <td>-0.08</td>\n",
       "      <td>-0.03</td>\n",
       "      <td>-0.08</td>\n",
       "      <td>0.01</td>\n",
       "      <td>0.15</td>\n",
       "    </tr>\n",
       "    <tr>\n",
       "      <th>866</th>\n",
       "      <td>2023_02_NYJ_DAL</td>\n",
       "      <td>2023</td>\n",
       "      <td>2</td>\n",
       "      <td>DAL</td>\n",
       "      <td>NYJ</td>\n",
       "      <td>30</td>\n",
       "      <td>20</td>\n",
       "      <td>...</td>\n",
       "      <td>0.10</td>\n",
       "      <td>-0.13</td>\n",
       "      <td>-0.16</td>\n",
       "      <td>-0.12</td>\n",
       "      <td>-0.15</td>\n",
       "      <td>-0.04</td>\n",
       "      <td>-0.06</td>\n",
       "    </tr>\n",
       "    <tr>\n",
       "      <th>865</th>\n",
       "      <td>2023_02_NYG_ARI</td>\n",
       "      <td>2023</td>\n",
       "      <td>2</td>\n",
       "      <td>ARI</td>\n",
       "      <td>NYG</td>\n",
       "      <td>28</td>\n",
       "      <td>-3</td>\n",
       "      <td>...</td>\n",
       "      <td>-0.23</td>\n",
       "      <td>-0.09</td>\n",
       "      <td>-0.03</td>\n",
       "      <td>0.11</td>\n",
       "      <td>-0.17</td>\n",
       "      <td>0.11</td>\n",
       "      <td>0.04</td>\n",
       "    </tr>\n",
       "    <tr>\n",
       "      <th>...</th>\n",
       "      <td>...</td>\n",
       "      <td>...</td>\n",
       "      <td>...</td>\n",
       "      <td>...</td>\n",
       "      <td>...</td>\n",
       "      <td>...</td>\n",
       "      <td>...</td>\n",
       "      <td>...</td>\n",
       "      <td>...</td>\n",
       "      <td>...</td>\n",
       "      <td>...</td>\n",
       "      <td>...</td>\n",
       "      <td>...</td>\n",
       "      <td>...</td>\n",
       "      <td>...</td>\n",
       "    </tr>\n",
       "    <tr>\n",
       "      <th>4</th>\n",
       "      <td>2020_01_GB_MIN</td>\n",
       "      <td>2020</td>\n",
       "      <td>1</td>\n",
       "      <td>MIN</td>\n",
       "      <td>GB</td>\n",
       "      <td>34</td>\n",
       "      <td>-9</td>\n",
       "      <td>...</td>\n",
       "      <td>NaN</td>\n",
       "      <td>NaN</td>\n",
       "      <td>NaN</td>\n",
       "      <td>NaN</td>\n",
       "      <td>NaN</td>\n",
       "      <td>NaN</td>\n",
       "      <td>NaN</td>\n",
       "    </tr>\n",
       "    <tr>\n",
       "      <th>3</th>\n",
       "      <td>2020_01_DAL_LA</td>\n",
       "      <td>2020</td>\n",
       "      <td>1</td>\n",
       "      <td>LA</td>\n",
       "      <td>DAL</td>\n",
       "      <td>20</td>\n",
       "      <td>3</td>\n",
       "      <td>...</td>\n",
       "      <td>NaN</td>\n",
       "      <td>NaN</td>\n",
       "      <td>NaN</td>\n",
       "      <td>NaN</td>\n",
       "      <td>NaN</td>\n",
       "      <td>NaN</td>\n",
       "      <td>NaN</td>\n",
       "    </tr>\n",
       "    <tr>\n",
       "      <th>2</th>\n",
       "      <td>2020_01_CLE_BAL</td>\n",
       "      <td>2020</td>\n",
       "      <td>1</td>\n",
       "      <td>BAL</td>\n",
       "      <td>CLE</td>\n",
       "      <td>38</td>\n",
       "      <td>32</td>\n",
       "      <td>...</td>\n",
       "      <td>NaN</td>\n",
       "      <td>NaN</td>\n",
       "      <td>NaN</td>\n",
       "      <td>NaN</td>\n",
       "      <td>NaN</td>\n",
       "      <td>NaN</td>\n",
       "      <td>NaN</td>\n",
       "    </tr>\n",
       "    <tr>\n",
       "      <th>1</th>\n",
       "      <td>2020_01_CHI_DET</td>\n",
       "      <td>2020</td>\n",
       "      <td>1</td>\n",
       "      <td>DET</td>\n",
       "      <td>CHI</td>\n",
       "      <td>23</td>\n",
       "      <td>-4</td>\n",
       "      <td>...</td>\n",
       "      <td>NaN</td>\n",
       "      <td>NaN</td>\n",
       "      <td>NaN</td>\n",
       "      <td>NaN</td>\n",
       "      <td>NaN</td>\n",
       "      <td>NaN</td>\n",
       "      <td>NaN</td>\n",
       "    </tr>\n",
       "    <tr>\n",
       "      <th>0</th>\n",
       "      <td>2020_01_ARI_SF</td>\n",
       "      <td>2020</td>\n",
       "      <td>1</td>\n",
       "      <td>SF</td>\n",
       "      <td>ARI</td>\n",
       "      <td>20</td>\n",
       "      <td>-4</td>\n",
       "      <td>...</td>\n",
       "      <td>NaN</td>\n",
       "      <td>NaN</td>\n",
       "      <td>NaN</td>\n",
       "      <td>NaN</td>\n",
       "      <td>NaN</td>\n",
       "      <td>NaN</td>\n",
       "      <td>NaN</td>\n",
       "    </tr>\n",
       "  </tbody>\n",
       "</table>\n",
       "<p>870 rows × 18 columns</p>\n",
       "</div>"
      ],
      "text/plain": [
       "             game_id  season  week home_team away_team  home_score  \\\n",
       "869  2023_02_WAS_DEN    2023     2       DEN       WAS          33   \n",
       "868    2023_02_SF_LA    2023     2        LA        SF          23   \n",
       "867  2023_02_SEA_DET    2023     2       DET       SEA          31   \n",
       "866  2023_02_NYJ_DAL    2023     2       DAL       NYJ          30   \n",
       "865  2023_02_NYG_ARI    2023     2       ARI       NYG          28   \n",
       "..               ...     ...   ...       ...       ...         ...   \n",
       "4     2020_01_GB_MIN    2020     1       MIN        GB          34   \n",
       "3     2020_01_DAL_LA    2020     1        LA       DAL          20   \n",
       "2    2020_01_CLE_BAL    2020     1       BAL       CLE          38   \n",
       "1    2020_01_CHI_DET    2020     1       DET       CHI          23   \n",
       "0     2020_01_ARI_SF    2020     1        SF       ARI          20   \n",
       "\n",
       "     score_diff  ...  ewma_dynamic_window_passing_offense_home  \\\n",
       "869          -2  ...                                     -0.10   \n",
       "868          -7  ...                                     -0.02   \n",
       "867          -6  ...                                      0.21   \n",
       "866          20  ...                                      0.10   \n",
       "865          -3  ...                                     -0.23   \n",
       "..          ...  ...                                       ...   \n",
       "4            -9  ...                                       NaN   \n",
       "3             3  ...                                       NaN   \n",
       "2            32  ...                                       NaN   \n",
       "1            -4  ...                                       NaN   \n",
       "0            -4  ...                                       NaN   \n",
       "\n",
       "     ewma_dynamic_window_rushing_defense_home  \\\n",
       "869                                     -0.16   \n",
       "868                                     -0.01   \n",
       "867                                      0.01   \n",
       "866                                     -0.13   \n",
       "865                                     -0.09   \n",
       "..                                        ...   \n",
       "4                                         NaN   \n",
       "3                                         NaN   \n",
       "2                                         NaN   \n",
       "1                                         NaN   \n",
       "0                                         NaN   \n",
       "\n",
       "     ewma_dynamic_window_passing_defense_home  \\\n",
       "869                                      0.17   \n",
       "868                                     -0.02   \n",
       "867                                     -0.08   \n",
       "866                                     -0.16   \n",
       "865                                     -0.03   \n",
       "..                                        ...   \n",
       "4                                         NaN   \n",
       "3                                         NaN   \n",
       "2                                         NaN   \n",
       "1                                         NaN   \n",
       "0                                         NaN   \n",
       "\n",
       "     ewma_dynamic_window_rushing_offense_away  \\\n",
       "869                                     -0.10   \n",
       "868                                     -0.08   \n",
       "867                                     -0.03   \n",
       "866                                     -0.12   \n",
       "865                                      0.11   \n",
       "..                                        ...   \n",
       "4                                         NaN   \n",
       "3                                         NaN   \n",
       "2                                         NaN   \n",
       "1                                         NaN   \n",
       "0                                         NaN   \n",
       "\n",
       "     ewma_dynamic_window_passing_offense_away  \\\n",
       "869                                     -0.17   \n",
       "868                                      0.17   \n",
       "867                                     -0.08   \n",
       "866                                     -0.15   \n",
       "865                                     -0.17   \n",
       "..                                        ...   \n",
       "4                                         NaN   \n",
       "3                                         NaN   \n",
       "2                                         NaN   \n",
       "1                                         NaN   \n",
       "0                                         NaN   \n",
       "\n",
       "     ewma_dynamic_window_rushing_defense_away  \\\n",
       "869                                     -0.19   \n",
       "868                                     -0.07   \n",
       "867                                      0.01   \n",
       "866                                     -0.04   \n",
       "865                                      0.11   \n",
       "..                                        ...   \n",
       "4                                         NaN   \n",
       "3                                         NaN   \n",
       "2                                         NaN   \n",
       "1                                         NaN   \n",
       "0                                         NaN   \n",
       "\n",
       "     ewma_dynamic_window_passing_defense_away  \n",
       "869                                     -0.09  \n",
       "868                                     -0.15  \n",
       "867                                      0.15  \n",
       "866                                     -0.06  \n",
       "865                                      0.04  \n",
       "..                                        ...  \n",
       "4                                         NaN  \n",
       "3                                         NaN  \n",
       "2                                         NaN  \n",
       "1                                         NaN  \n",
       "0                                         NaN  \n",
       "\n",
       "[870 rows x 18 columns]"
      ]
     },
     "execution_count": 6,
     "metadata": {},
     "output_type": "execute_result"
    }
   ],
   "source": [
    "# We want a df that we will model on without anything that isn't a feature or target\n",
    "model_df = nfl_api\n",
    "\n",
    "model_df.sort_values(by='game_id', ascending=False)"
   ]
  },
  {
   "cell_type": "markdown",
   "metadata": {
    "id": "XErdVR5D57JX"
   },
   "source": [
    "Ok, this is our starting df. The target is score_diff - The difference in score between two teams. In this case, the score diff is with respect to the home team. This mean if the diff is positive, the home team won. We will keep this in mind for bringing in other features."
   ]
  },
  {
   "cell_type": "markdown",
   "metadata": {
    "id": "1S5OpJ6D6V2e"
   },
   "source": [
    "The EPA columns are created by bringing in play by play data, rolling them up into games, and then creating a 10 game rolling average offset by one week so that each EPA that we see is an average of the last 10 games. If the team has not played 10 games in the season, it will take as many games as have been played."
   ]
  },
  {
   "cell_type": "markdown",
   "metadata": {
    "id": "6ocMhUH18MxZ"
   },
   "source": [
    "# (Other) Feature Engineering"
   ]
  },
  {
   "cell_type": "markdown",
   "metadata": {
    "id": "UOt1ZZ419aXo"
   },
   "source": [
    "Adding in a couple of features I think will be valuable to model on"
   ]
  },
  {
   "cell_type": "code",
   "execution_count": 7,
   "metadata": {
    "colab": {
     "base_uri": "https://localhost:8080/"
    },
    "executionInfo": {
     "elapsed": 104,
     "status": "ok",
     "timestamp": 1693943190002,
     "user": {
      "displayName": "Nick Bohall",
      "userId": "01569402893739202477"
     },
     "user_tz": 360
    },
    "id": "BvWKkBCf-2Xk",
    "outputId": "8e93bda2-2d5f-4da9-8cd8-d6cd95a6f24f"
   },
   "outputs": [
    {
     "data": {
      "text/plain": [
       "Index(['game_id', 'season', 'game_type', 'week', 'gameday', 'weekday',\n",
       "       'gametime', 'away_team', 'away_score', 'home_team', 'home_score',\n",
       "       'location', 'result', 'total', 'overtime', 'old_game_id', 'gsis',\n",
       "       'nfl_detail_id', 'pfr', 'pff', 'espn', 'ftn', 'away_rest', 'home_rest',\n",
       "       'away_moneyline', 'home_moneyline', 'spread_line', 'away_spread_odds',\n",
       "       'home_spread_odds', 'total_line', 'under_odds', 'over_odds', 'div_game',\n",
       "       'roof', 'surface', 'temp', 'wind', 'away_qb_id', 'home_qb_id',\n",
       "       'away_qb_name', 'home_qb_name', 'away_coach', 'home_coach', 'referee',\n",
       "       'stadium_id', 'stadium'],\n",
       "      dtype='object')"
      ]
     },
     "execution_count": 7,
     "metadata": {},
     "output_type": "execute_result"
    }
   ],
   "source": [
    "feature_df = schedule\n",
    "feature_df.columns"
   ]
  },
  {
   "cell_type": "code",
   "execution_count": 8,
   "metadata": {
    "colab": {
     "base_uri": "https://localhost:8080/",
     "height": 423
    },
    "executionInfo": {
     "elapsed": 85,
     "status": "ok",
     "timestamp": 1693944012164,
     "user": {
      "displayName": "Nick Bohall",
      "userId": "01569402893739202477"
     },
     "user_tz": 360
    },
    "id": "f3XGtGce6UKN",
    "outputId": "d8c10eab-9a81-4319-8aed-fcc55dab3209"
   },
   "outputs": [
    {
     "data": {
      "text/html": [
       "<div>\n",
       "<style scoped>\n",
       "    .dataframe tbody tr th:only-of-type {\n",
       "        vertical-align: middle;\n",
       "    }\n",
       "\n",
       "    .dataframe tbody tr th {\n",
       "        vertical-align: top;\n",
       "    }\n",
       "\n",
       "    .dataframe thead th {\n",
       "        text-align: right;\n",
       "    }\n",
       "</style>\n",
       "<table border=\"1\" class=\"dataframe\">\n",
       "  <thead>\n",
       "    <tr style=\"text-align: right;\">\n",
       "      <th></th>\n",
       "      <th>game_id</th>\n",
       "      <th>season</th>\n",
       "      <th>game_type</th>\n",
       "      <th>week</th>\n",
       "      <th>gameday</th>\n",
       "      <th>weekday</th>\n",
       "      <th>gametime</th>\n",
       "      <th>...</th>\n",
       "      <th>away_coach</th>\n",
       "      <th>home_coach</th>\n",
       "      <th>referee</th>\n",
       "      <th>stadium_id</th>\n",
       "      <th>stadium</th>\n",
       "      <th>windy</th>\n",
       "      <th>rest_differential</th>\n",
       "    </tr>\n",
       "  </thead>\n",
       "  <tbody>\n",
       "    <tr>\n",
       "      <th>5583</th>\n",
       "      <td>2020_01_HOU_KC</td>\n",
       "      <td>2020</td>\n",
       "      <td>REG</td>\n",
       "      <td>1</td>\n",
       "      <td>2020-09-10</td>\n",
       "      <td>Thursday</td>\n",
       "      <td>20:20</td>\n",
       "      <td>...</td>\n",
       "      <td>Bill O'Brien</td>\n",
       "      <td>Andy Reid</td>\n",
       "      <td>Clete Blakeman</td>\n",
       "      <td>KAN00</td>\n",
       "      <td>Arrowhead Stadium</td>\n",
       "      <td>0</td>\n",
       "      <td>0</td>\n",
       "    </tr>\n",
       "    <tr>\n",
       "      <th>5584</th>\n",
       "      <td>2020_01_SEA_ATL</td>\n",
       "      <td>2020</td>\n",
       "      <td>REG</td>\n",
       "      <td>1</td>\n",
       "      <td>2020-09-13</td>\n",
       "      <td>Sunday</td>\n",
       "      <td>13:00</td>\n",
       "      <td>...</td>\n",
       "      <td>Pete Carroll</td>\n",
       "      <td>Dan Quinn</td>\n",
       "      <td>Shawn Hochuli</td>\n",
       "      <td>ATL97</td>\n",
       "      <td>Mercedes-Benz Stadium</td>\n",
       "      <td>0</td>\n",
       "      <td>0</td>\n",
       "    </tr>\n",
       "    <tr>\n",
       "      <th>5585</th>\n",
       "      <td>2020_01_CLE_BAL</td>\n",
       "      <td>2020</td>\n",
       "      <td>REG</td>\n",
       "      <td>1</td>\n",
       "      <td>2020-09-13</td>\n",
       "      <td>Sunday</td>\n",
       "      <td>13:00</td>\n",
       "      <td>...</td>\n",
       "      <td>Kevin Stefanski</td>\n",
       "      <td>John Harbaugh</td>\n",
       "      <td>Ronald Torbert</td>\n",
       "      <td>BAL00</td>\n",
       "      <td>M&amp;T Bank Stadium</td>\n",
       "      <td>0</td>\n",
       "      <td>0</td>\n",
       "    </tr>\n",
       "    <tr>\n",
       "      <th>5586</th>\n",
       "      <td>2020_01_NYJ_BUF</td>\n",
       "      <td>2020</td>\n",
       "      <td>REG</td>\n",
       "      <td>1</td>\n",
       "      <td>2020-09-13</td>\n",
       "      <td>Sunday</td>\n",
       "      <td>13:00</td>\n",
       "      <td>...</td>\n",
       "      <td>Adam Gase</td>\n",
       "      <td>Sean McDermott</td>\n",
       "      <td>Shawn Smith</td>\n",
       "      <td>BUF00</td>\n",
       "      <td>New Era Field</td>\n",
       "      <td>0</td>\n",
       "      <td>0</td>\n",
       "    </tr>\n",
       "    <tr>\n",
       "      <th>5587</th>\n",
       "      <td>2020_01_LV_CAR</td>\n",
       "      <td>2020</td>\n",
       "      <td>REG</td>\n",
       "      <td>1</td>\n",
       "      <td>2020-09-13</td>\n",
       "      <td>Sunday</td>\n",
       "      <td>13:00</td>\n",
       "      <td>...</td>\n",
       "      <td>Jon Gruden</td>\n",
       "      <td>Matt Rhule</td>\n",
       "      <td>Brad Allen</td>\n",
       "      <td>CAR00</td>\n",
       "      <td>Bank of America Stadium</td>\n",
       "      <td>0</td>\n",
       "      <td>0</td>\n",
       "    </tr>\n",
       "    <tr>\n",
       "      <th>...</th>\n",
       "      <td>...</td>\n",
       "      <td>...</td>\n",
       "      <td>...</td>\n",
       "      <td>...</td>\n",
       "      <td>...</td>\n",
       "      <td>...</td>\n",
       "      <td>...</td>\n",
       "      <td>...</td>\n",
       "      <td>...</td>\n",
       "      <td>...</td>\n",
       "      <td>...</td>\n",
       "      <td>...</td>\n",
       "      <td>...</td>\n",
       "      <td>...</td>\n",
       "      <td>...</td>\n",
       "    </tr>\n",
       "    <tr>\n",
       "      <th>6688</th>\n",
       "      <td>2023_18_ATL_NO</td>\n",
       "      <td>2023</td>\n",
       "      <td>REG</td>\n",
       "      <td>18</td>\n",
       "      <td>2024-01-07</td>\n",
       "      <td>Sunday</td>\n",
       "      <td>13:00</td>\n",
       "      <td>...</td>\n",
       "      <td>Arthur Smith</td>\n",
       "      <td>Dennis Allen</td>\n",
       "      <td>NaN</td>\n",
       "      <td>NOR00</td>\n",
       "      <td>Mercedes-Benz Superdome</td>\n",
       "      <td>0</td>\n",
       "      <td>-1</td>\n",
       "    </tr>\n",
       "    <tr>\n",
       "      <th>6689</th>\n",
       "      <td>2023_18_PHI_NYG</td>\n",
       "      <td>2023</td>\n",
       "      <td>REG</td>\n",
       "      <td>18</td>\n",
       "      <td>2024-01-07</td>\n",
       "      <td>Sunday</td>\n",
       "      <td>13:00</td>\n",
       "      <td>...</td>\n",
       "      <td>Nick Sirianni</td>\n",
       "      <td>Brian Daboll</td>\n",
       "      <td>NaN</td>\n",
       "      <td>NYC01</td>\n",
       "      <td>MetLife Stadium</td>\n",
       "      <td>0</td>\n",
       "      <td>0</td>\n",
       "    </tr>\n",
       "    <tr>\n",
       "      <th>6690</th>\n",
       "      <td>2023_18_LA_SF</td>\n",
       "      <td>2023</td>\n",
       "      <td>REG</td>\n",
       "      <td>18</td>\n",
       "      <td>2024-01-07</td>\n",
       "      <td>Sunday</td>\n",
       "      <td>13:00</td>\n",
       "      <td>...</td>\n",
       "      <td>Sean McVay</td>\n",
       "      <td>Kyle Shanahan</td>\n",
       "      <td>NaN</td>\n",
       "      <td>SFO01</td>\n",
       "      <td>Levi's Stadium</td>\n",
       "      <td>0</td>\n",
       "      <td>-7</td>\n",
       "    </tr>\n",
       "    <tr>\n",
       "      <th>6691</th>\n",
       "      <td>2023_18_JAX_TEN</td>\n",
       "      <td>2023</td>\n",
       "      <td>REG</td>\n",
       "      <td>18</td>\n",
       "      <td>2024-01-07</td>\n",
       "      <td>Sunday</td>\n",
       "      <td>13:00</td>\n",
       "      <td>...</td>\n",
       "      <td>Doug Pederson</td>\n",
       "      <td>Mike Vrabel</td>\n",
       "      <td>NaN</td>\n",
       "      <td>NAS00</td>\n",
       "      <td>Nissan Stadium</td>\n",
       "      <td>0</td>\n",
       "      <td>0</td>\n",
       "    </tr>\n",
       "    <tr>\n",
       "      <th>6692</th>\n",
       "      <td>2023_18_DAL_WAS</td>\n",
       "      <td>2023</td>\n",
       "      <td>REG</td>\n",
       "      <td>18</td>\n",
       "      <td>2024-01-07</td>\n",
       "      <td>Sunday</td>\n",
       "      <td>13:00</td>\n",
       "      <td>...</td>\n",
       "      <td>Mike McCarthy</td>\n",
       "      <td>Ron Rivera</td>\n",
       "      <td>NaN</td>\n",
       "      <td>WAS00</td>\n",
       "      <td>FedExField</td>\n",
       "      <td>0</td>\n",
       "      <td>7</td>\n",
       "    </tr>\n",
       "  </tbody>\n",
       "</table>\n",
       "<p>1110 rows × 48 columns</p>\n",
       "</div>"
      ],
      "text/plain": [
       "              game_id  season game_type  week     gameday   weekday gametime  \\\n",
       "5583   2020_01_HOU_KC    2020       REG     1  2020-09-10  Thursday    20:20   \n",
       "5584  2020_01_SEA_ATL    2020       REG     1  2020-09-13    Sunday    13:00   \n",
       "5585  2020_01_CLE_BAL    2020       REG     1  2020-09-13    Sunday    13:00   \n",
       "5586  2020_01_NYJ_BUF    2020       REG     1  2020-09-13    Sunday    13:00   \n",
       "5587   2020_01_LV_CAR    2020       REG     1  2020-09-13    Sunday    13:00   \n",
       "...               ...     ...       ...   ...         ...       ...      ...   \n",
       "6688   2023_18_ATL_NO    2023       REG    18  2024-01-07    Sunday    13:00   \n",
       "6689  2023_18_PHI_NYG    2023       REG    18  2024-01-07    Sunday    13:00   \n",
       "6690    2023_18_LA_SF    2023       REG    18  2024-01-07    Sunday    13:00   \n",
       "6691  2023_18_JAX_TEN    2023       REG    18  2024-01-07    Sunday    13:00   \n",
       "6692  2023_18_DAL_WAS    2023       REG    18  2024-01-07    Sunday    13:00   \n",
       "\n",
       "      ...       away_coach      home_coach         referee  stadium_id  \\\n",
       "5583  ...     Bill O'Brien       Andy Reid  Clete Blakeman       KAN00   \n",
       "5584  ...     Pete Carroll       Dan Quinn   Shawn Hochuli       ATL97   \n",
       "5585  ...  Kevin Stefanski   John Harbaugh  Ronald Torbert       BAL00   \n",
       "5586  ...        Adam Gase  Sean McDermott     Shawn Smith       BUF00   \n",
       "5587  ...       Jon Gruden      Matt Rhule      Brad Allen       CAR00   \n",
       "...   ...              ...             ...             ...         ...   \n",
       "6688  ...     Arthur Smith    Dennis Allen             NaN       NOR00   \n",
       "6689  ...    Nick Sirianni    Brian Daboll             NaN       NYC01   \n",
       "6690  ...       Sean McVay   Kyle Shanahan             NaN       SFO01   \n",
       "6691  ...    Doug Pederson     Mike Vrabel             NaN       NAS00   \n",
       "6692  ...    Mike McCarthy      Ron Rivera             NaN       WAS00   \n",
       "\n",
       "                      stadium  windy  rest_differential  \n",
       "5583        Arrowhead Stadium      0                  0  \n",
       "5584    Mercedes-Benz Stadium      0                  0  \n",
       "5585         M&T Bank Stadium      0                  0  \n",
       "5586            New Era Field      0                  0  \n",
       "5587  Bank of America Stadium      0                  0  \n",
       "...                       ...    ...                ...  \n",
       "6688  Mercedes-Benz Superdome      0                 -1  \n",
       "6689          MetLife Stadium      0                  0  \n",
       "6690           Levi's Stadium      0                 -7  \n",
       "6691           Nissan Stadium      0                  0  \n",
       "6692               FedExField      0                  7  \n",
       "\n",
       "[1110 rows x 48 columns]"
      ]
     },
     "execution_count": 8,
     "metadata": {},
     "output_type": "execute_result"
    }
   ],
   "source": [
    "# Was wind involved in the game. I'm setting the threshold at 15mph, but may adjust later\n",
    "feature_df['windy'] = np.where(schedule.loc[:, 'wind'] > 15, 1, 0)\n",
    "\n",
    "# Next lets look at \"rest differential\". A further analysis of this can be seen on my github\n",
    "feature_df['rest_differential'] = schedule.loc[:, \"home_rest\"] - schedule.loc[:, \"away_rest\"]\n",
    "feature_df"
   ]
  },
  {
   "cell_type": "markdown",
   "metadata": {
    "id": "01OrYm4W_SsI"
   },
   "source": [
    "Ok lets reduce the columns to the ones we need and merge with our original df"
   ]
  },
  {
   "cell_type": "code",
   "execution_count": 9,
   "metadata": {
    "executionInfo": {
     "elapsed": 94,
     "status": "ok",
     "timestamp": 1693944013171,
     "user": {
      "displayName": "Nick Bohall",
      "userId": "01569402893739202477"
     },
     "user_tz": 360
    },
    "id": "wZPZtxUM_cma"
   },
   "outputs": [
    {
     "ename": "KeyError",
     "evalue": "\"['implied_points'] not in index\"",
     "output_type": "error",
     "traceback": [
      "\u001b[1;31m---------------------------------------------------------------------------\u001b[0m",
      "\u001b[1;31mKeyError\u001b[0m                                  Traceback (most recent call last)",
      "Cell \u001b[1;32mIn[9], line 1\u001b[0m\n\u001b[1;32m----> 1\u001b[0m merge_df \u001b[38;5;241m=\u001b[39m \u001b[43mfeature_df\u001b[49m\u001b[43m[\u001b[49m\u001b[43m[\u001b[49m\u001b[38;5;124;43m'\u001b[39;49m\u001b[38;5;124;43mgame_id\u001b[39;49m\u001b[38;5;124;43m'\u001b[39;49m\u001b[43m,\u001b[49m\u001b[43m \u001b[49m\u001b[38;5;124;43m'\u001b[39;49m\u001b[38;5;124;43mrest_differential\u001b[39;49m\u001b[38;5;124;43m'\u001b[39;49m\u001b[43m,\u001b[49m\u001b[43m \u001b[49m\u001b[38;5;124;43m'\u001b[39;49m\u001b[38;5;124;43mwindy\u001b[39;49m\u001b[38;5;124;43m'\u001b[39;49m\u001b[43m,\u001b[49m\u001b[43m \u001b[49m\u001b[38;5;124;43m'\u001b[39;49m\u001b[38;5;124;43mdiv_game\u001b[39;49m\u001b[38;5;124;43m'\u001b[39;49m\u001b[43m,\u001b[49m\u001b[43m \u001b[49m\u001b[38;5;124;43m'\u001b[39;49m\u001b[38;5;124;43mspread_line\u001b[39;49m\u001b[38;5;124;43m'\u001b[39;49m\u001b[43m,\u001b[49m\u001b[43m \u001b[49m\u001b[38;5;124;43m'\u001b[39;49m\u001b[38;5;124;43mimplied_points\u001b[39;49m\u001b[38;5;124;43m'\u001b[39;49m\u001b[43m,\u001b[49m\u001b[43m \u001b[49m\u001b[38;5;124;43m'\u001b[39;49m\u001b[38;5;124;43mtotal_line\u001b[39;49m\u001b[38;5;124;43m'\u001b[39;49m\u001b[43m,\u001b[49m\u001b[43m \u001b[49m\u001b[38;5;124;43m'\u001b[39;49m\u001b[38;5;124;43mgame_type\u001b[39;49m\u001b[38;5;124;43m'\u001b[39;49m\u001b[43m,\u001b[49m\u001b[43m \u001b[49m\u001b[38;5;124;43m'\u001b[39;49m\u001b[38;5;124;43mlocation\u001b[39;49m\u001b[38;5;124;43m'\u001b[39;49m\u001b[43m,\u001b[49m\u001b[43m \u001b[49m\u001b[38;5;124;43m'\u001b[39;49m\u001b[38;5;124;43mtotal\u001b[39;49m\u001b[38;5;124;43m'\u001b[39;49m\u001b[43m]\u001b[49m\u001b[43m]\u001b[49m\n",
      "File \u001b[1;32m~\\AppData\\Local\\Programs\\Python\\Python311\\Lib\\site-packages\\pandas\\core\\frame.py:3813\u001b[0m, in \u001b[0;36mDataFrame.__getitem__\u001b[1;34m(self, key)\u001b[0m\n\u001b[0;32m   3811\u001b[0m     \u001b[38;5;28;01mif\u001b[39;00m is_iterator(key):\n\u001b[0;32m   3812\u001b[0m         key \u001b[38;5;241m=\u001b[39m \u001b[38;5;28mlist\u001b[39m(key)\n\u001b[1;32m-> 3813\u001b[0m     indexer \u001b[38;5;241m=\u001b[39m \u001b[38;5;28;43mself\u001b[39;49m\u001b[38;5;241;43m.\u001b[39;49m\u001b[43mcolumns\u001b[49m\u001b[38;5;241;43m.\u001b[39;49m\u001b[43m_get_indexer_strict\u001b[49m\u001b[43m(\u001b[49m\u001b[43mkey\u001b[49m\u001b[43m,\u001b[49m\u001b[43m \u001b[49m\u001b[38;5;124;43m\"\u001b[39;49m\u001b[38;5;124;43mcolumns\u001b[39;49m\u001b[38;5;124;43m\"\u001b[39;49m\u001b[43m)\u001b[49m[\u001b[38;5;241m1\u001b[39m]\n\u001b[0;32m   3815\u001b[0m \u001b[38;5;66;03m# take() does not accept boolean indexers\u001b[39;00m\n\u001b[0;32m   3816\u001b[0m \u001b[38;5;28;01mif\u001b[39;00m \u001b[38;5;28mgetattr\u001b[39m(indexer, \u001b[38;5;124m\"\u001b[39m\u001b[38;5;124mdtype\u001b[39m\u001b[38;5;124m\"\u001b[39m, \u001b[38;5;28;01mNone\u001b[39;00m) \u001b[38;5;241m==\u001b[39m \u001b[38;5;28mbool\u001b[39m:\n",
      "File \u001b[1;32m~\\AppData\\Local\\Programs\\Python\\Python311\\Lib\\site-packages\\pandas\\core\\indexes\\base.py:6070\u001b[0m, in \u001b[0;36mIndex._get_indexer_strict\u001b[1;34m(self, key, axis_name)\u001b[0m\n\u001b[0;32m   6067\u001b[0m \u001b[38;5;28;01melse\u001b[39;00m:\n\u001b[0;32m   6068\u001b[0m     keyarr, indexer, new_indexer \u001b[38;5;241m=\u001b[39m \u001b[38;5;28mself\u001b[39m\u001b[38;5;241m.\u001b[39m_reindex_non_unique(keyarr)\n\u001b[1;32m-> 6070\u001b[0m \u001b[38;5;28;43mself\u001b[39;49m\u001b[38;5;241;43m.\u001b[39;49m\u001b[43m_raise_if_missing\u001b[49m\u001b[43m(\u001b[49m\u001b[43mkeyarr\u001b[49m\u001b[43m,\u001b[49m\u001b[43m \u001b[49m\u001b[43mindexer\u001b[49m\u001b[43m,\u001b[49m\u001b[43m \u001b[49m\u001b[43maxis_name\u001b[49m\u001b[43m)\u001b[49m\n\u001b[0;32m   6072\u001b[0m keyarr \u001b[38;5;241m=\u001b[39m \u001b[38;5;28mself\u001b[39m\u001b[38;5;241m.\u001b[39mtake(indexer)\n\u001b[0;32m   6073\u001b[0m \u001b[38;5;28;01mif\u001b[39;00m \u001b[38;5;28misinstance\u001b[39m(key, Index):\n\u001b[0;32m   6074\u001b[0m     \u001b[38;5;66;03m# GH 42790 - Preserve name from an Index\u001b[39;00m\n",
      "File \u001b[1;32m~\\AppData\\Local\\Programs\\Python\\Python311\\Lib\\site-packages\\pandas\\core\\indexes\\base.py:6133\u001b[0m, in \u001b[0;36mIndex._raise_if_missing\u001b[1;34m(self, key, indexer, axis_name)\u001b[0m\n\u001b[0;32m   6130\u001b[0m     \u001b[38;5;28;01mraise\u001b[39;00m \u001b[38;5;167;01mKeyError\u001b[39;00m(\u001b[38;5;124mf\u001b[39m\u001b[38;5;124m\"\u001b[39m\u001b[38;5;124mNone of [\u001b[39m\u001b[38;5;132;01m{\u001b[39;00mkey\u001b[38;5;132;01m}\u001b[39;00m\u001b[38;5;124m] are in the [\u001b[39m\u001b[38;5;132;01m{\u001b[39;00maxis_name\u001b[38;5;132;01m}\u001b[39;00m\u001b[38;5;124m]\u001b[39m\u001b[38;5;124m\"\u001b[39m)\n\u001b[0;32m   6132\u001b[0m not_found \u001b[38;5;241m=\u001b[39m \u001b[38;5;28mlist\u001b[39m(ensure_index(key)[missing_mask\u001b[38;5;241m.\u001b[39mnonzero()[\u001b[38;5;241m0\u001b[39m]]\u001b[38;5;241m.\u001b[39munique())\n\u001b[1;32m-> 6133\u001b[0m \u001b[38;5;28;01mraise\u001b[39;00m \u001b[38;5;167;01mKeyError\u001b[39;00m(\u001b[38;5;124mf\u001b[39m\u001b[38;5;124m\"\u001b[39m\u001b[38;5;132;01m{\u001b[39;00mnot_found\u001b[38;5;132;01m}\u001b[39;00m\u001b[38;5;124m not in index\u001b[39m\u001b[38;5;124m\"\u001b[39m)\n",
      "\u001b[1;31mKeyError\u001b[0m: \"['implied_points'] not in index\""
     ]
    }
   ],
   "source": [
    "merge_df = feature_df[['game_id', 'rest_differential', 'windy', 'div_game', 'spread_line', 'implied_points', 'total_line', 'game_type', 'location', 'total']]"
   ]
  },
  {
   "cell_type": "code",
   "execution_count": null,
   "metadata": {
    "executionInfo": {
     "elapsed": 1,
     "status": "ok",
     "timestamp": 1693944013530,
     "user": {
      "displayName": "Nick Bohall",
      "userId": "01569402893739202477"
     },
     "user_tz": 360
    },
    "id": "MEwe526j_0mt"
   },
   "outputs": [],
   "source": [
    "final_df = pd.merge(model_df, merge_df, on=\"game_id\", how='left')\n",
    "\n",
    "# Only reg season games\n",
    "final_df = final_df.loc[final_df.game_type == \"REG\"]"
   ]
  },
  {
   "cell_type": "code",
   "execution_count": null,
   "metadata": {
    "executionInfo": {
     "elapsed": 127,
     "status": "ok",
     "timestamp": 1693944013985,
     "user": {
      "displayName": "Nick Bohall",
      "userId": "01569402893739202477"
     },
     "user_tz": 360
    },
    "id": "yPAiklRq6yv1"
   },
   "outputs": [],
   "source": [
    "# Since we're now doing 1 team per row, need to make some adjustments to the values\n",
    "final_df[\"implied_points\"] = np.where(final_df.home == 1, final_df.total_line/2 - final_df.spread_line/2, final_df.total_line/2 + final_df.spread_line/2)\n",
    "final_df.spread_line = np.where(final_df.home == 1, final_df.spread_line, final_df.spread_line*-1)\n",
    "final_df.rest_differential = np.where(final_df.home == 1, final_df.rest_differential, final_df.rest_differential*-1)"
   ]
  },
  {
   "cell_type": "code",
   "execution_count": 14,
   "metadata": {
    "colab": {
     "base_uri": "https://localhost:8080/",
     "height": 1000
    },
    "executionInfo": {
     "elapsed": 98,
     "status": "ok",
     "timestamp": 1693944018718,
     "user": {
      "displayName": "Nick Bohall",
      "userId": "01569402893739202477"
     },
     "user_tz": 360
    },
    "id": "_1liCTeHvLF8",
    "outputId": "7734f013-2a0a-4036-c17a-ba1410b769d5"
   },
   "outputs": [
    {
     "ename": "NameError",
     "evalue": "name 'final_df' is not defined",
     "output_type": "error",
     "traceback": [
      "\u001b[1;31m---------------------------------------------------------------------------\u001b[0m",
      "\u001b[1;31mNameError\u001b[0m                                 Traceback (most recent call last)",
      "Cell \u001b[1;32mIn[14], line 1\u001b[0m\n\u001b[1;32m----> 1\u001b[0m \u001b[43mfinal_df\u001b[49m\u001b[38;5;241m.\u001b[39mhead(\u001b[38;5;241m50\u001b[39m)\n",
      "\u001b[1;31mNameError\u001b[0m: name 'final_df' is not defined"
     ]
    }
   ],
   "source": [
    "final_df.head(50)"
   ]
  },
  {
   "cell_type": "markdown",
   "metadata": {
    "id": "sFFJYTEiArqY"
   },
   "source": [
    "ok lets output back to csv so that we can bring it in the other files to model on without messing with the final result"
   ]
  },
  {
   "cell_type": "code",
   "execution_count": 33,
   "metadata": {
    "executionInfo": {
     "elapsed": 543,
     "status": "ok",
     "timestamp": 1693944045244,
     "user": {
      "displayName": "Nick Bohall",
      "userId": "01569402893739202477"
     },
     "user_tz": 360
    },
    "id": "45vQ9bKxAXuR"
   },
   "outputs": [],
   "source": [
    "final_df.to_csv(\"/content/drive/MyDrive/Colab Notebooks/NFL Model/Data/Model Data/final_data.csv\")"
   ]
  },
  {
   "cell_type": "markdown",
   "metadata": {
    "id": "kLXu9TVvBXMZ"
   },
   "source": [
    "Okay we should probably do some visualizations to see what this data actually is telling us"
   ]
  },
  {
   "cell_type": "code",
   "execution_count": null,
   "metadata": {
    "id": "eZ8mCcThBJMJ"
   },
   "outputs": [],
   "source": []
  }
 ],
 "metadata": {
  "colab": {
   "authorship_tag": "ABX9TyMQLmOZkMxOl/88tzxXAnoo",
   "provenance": []
  },
  "kernelspec": {
   "display_name": "Python 3 (ipykernel)",
   "language": "python",
   "name": "python3"
  },
  "language_info": {
   "codemirror_mode": {
    "name": "ipython",
    "version": 3
   },
   "file_extension": ".py",
   "mimetype": "text/x-python",
   "name": "python",
   "nbconvert_exporter": "python",
   "pygments_lexer": "ipython3",
   "version": "3.11.1"
  }
 },
 "nbformat": 4,
 "nbformat_minor": 4
}
