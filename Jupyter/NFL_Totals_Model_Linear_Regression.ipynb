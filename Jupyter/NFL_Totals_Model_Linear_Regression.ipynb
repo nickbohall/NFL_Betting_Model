{
  "nbformat": 4,
  "nbformat_minor": 0,
  "metadata": {
    "colab": {
      "provenance": [],
      "authorship_tag": "ABX9TyMqTrzQCFGRgGAwhKOKr0W1",
      "include_colab_link": true
    },
    "kernelspec": {
      "name": "python3",
      "display_name": "Python 3"
    },
    "language_info": {
      "name": "python"
    }
  },
  "cells": [
    {
      "cell_type": "markdown",
      "metadata": {
        "id": "view-in-github",
        "colab_type": "text"
      },
      "source": [
        "<a href=\"https://colab.research.google.com/github/nickbohall/NFL_Betting_Model/blob/main/NFL_Totals_Model_Linear_Regression.ipynb\" target=\"_parent\"><img src=\"https://colab.research.google.com/assets/colab-badge.svg\" alt=\"Open In Colab\"/></a>"
      ]
    },
    {
      "cell_type": "markdown",
      "source": [
        "# Imports & Housekeeping"
      ],
      "metadata": {
        "id": "f6JaPUJxCbA2"
      }
    },
    {
      "cell_type": "code",
      "source": [
        "# !pip install --upgrade pip setuptools==57.5.0 \n",
        "# !pip install regressors"
      ],
      "metadata": {
        "id": "OXCwwQAy6iSc"
      },
      "execution_count": null,
      "outputs": []
    },
    {
      "cell_type": "code",
      "source": [
        "import pandas as pd\n",
        "import numpy as np\n",
        "\n",
        "import seaborn as sns\n",
        "import plotly.express as px\n",
        "import matplotlib.pyplot as plt\n",
        "from functools import reduce\n",
        "from datetime import datetime as dt\n",
        "import statsmodels.api as sm\n",
        "from regressors import stats\n",
        "\n",
        "from sklearn.linear_model import LinearRegression\n",
        "from sklearn.model_selection import train_test_split\n",
        "from sklearn.metrics import mean_squared_error, r2_score\n",
        "\n",
        "from google.colab import drive\n",
        "drive.mount('/content/drive')"
      ],
      "metadata": {
        "id": "HHUggqRrCeTB"
      },
      "execution_count": null,
      "outputs": []
    },
    {
      "cell_type": "code",
      "source": [
        "pd.options.display.float_format = '{:,.2f}'.format\n",
        "plt.style.use('seaborn')\n",
        "plt.rcParams['figure.figsize'] = (12,8)\n",
        "pd.set_option('display.max_columns', 15)\n",
        "pd.set_option('display.max_rows', 50)"
      ],
      "metadata": {
        "id": "FCf8v_EdCgfc"
      },
      "execution_count": null,
      "outputs": []
    },
    {
      "cell_type": "markdown",
      "source": [
        "# Let's get some damn data. "
      ],
      "metadata": {
        "id": "MvPhshZ3CqVd"
      }
    },
    {
      "cell_type": "markdown",
      "source": [
        "This is from a python API. All of the API work and data manipulation was done in PyCharm and can be found on Github"
      ],
      "metadata": {
        "id": "HaMvxxrcC1KC"
      }
    },
    {
      "cell_type": "code",
      "source": [
        "df = pd.read_csv(\"/content/drive/MyDrive/Colab Notebooks/NFL Model/Data/Model Data/final_data.csv\", index_col=0)\n",
        "schedule = pd.read_csv(\"/content/drive/MyDrive/Colab Notebooks/NFL Model/Data/API Data/schedule_2002_to_2022.csv\", index_col=0)"
      ],
      "metadata": {
        "id": "McTvy_3uCs3g"
      },
      "execution_count": null,
      "outputs": []
    },
    {
      "cell_type": "markdown",
      "source": [
        "Ok lets define the target and features and create a train test split"
      ],
      "metadata": {
        "id": "AEj09__VFRv1"
      }
    },
    {
      "cell_type": "code",
      "source": [
        "df.dropna(inplace=True)\n",
        "target = df.total_score\n",
        "features = df.drop(['score_diff', 'spread_line', 'total_line', 'total_score'], axis=1)\n",
        "\n",
        "# Creating train test split. Test will be 20% of the data\n",
        "X_train, X_test, y_train, y_test = train_test_split(features, target, test_size=0.2, random_state=10)\n",
        "print(X_train.shape, y_train.shape)"
      ],
      "metadata": {
        "id": "rbkb0BbwFUGz"
      },
      "execution_count": null,
      "outputs": []
    },
    {
      "cell_type": "markdown",
      "source": [
        "Lets define a linear regression object and fit our X and Y"
      ],
      "metadata": {
        "id": "mYF1-6FZD0kV"
      }
    },
    {
      "cell_type": "code",
      "source": [
        "# Create Regression object and fit\n",
        "clf = LinearRegression()\n",
        "clf.fit(X_train, y_train)\n",
        "\n",
        "# Make a prediction based on the fit. Use X_test (20% of the data)\n",
        "y_pred = clf.predict(X_test)"
      ],
      "metadata": {
        "id": "BHGReIZ_FcD1"
      },
      "execution_count": null,
      "outputs": []
    },
    {
      "cell_type": "code",
      "source": [
        "# Get some info about the coefficients and how they're impacting the model\n",
        "mod = sm.OLS(y_train,X_train)\n",
        "fii = mod.fit()\n",
        "\n",
        "# Getting some info for graphing later\n",
        "r2 = fii.rsquared\n",
        "mse = mean_squared_error(y_pred, y_test)\n",
        "\n",
        "fii.summary()"
      ],
      "metadata": {
        "id": "cuzRk5pu63j7"
      },
      "execution_count": null,
      "outputs": []
    },
    {
      "cell_type": "markdown",
      "source": [
        "Not bad. Lets see what it looks like and we can tweak\n",
        "Current R^2: 0.142"
      ],
      "metadata": {
        "id": "jMBNBAFSFhN6"
      }
    },
    {
      "cell_type": "code",
      "source": [
        "plt.style.use('seaborn')\n",
        "\n",
        "# set x and y\n",
        "x = y_pred\n",
        "y = y_test\n",
        "\n",
        "# calculate equation for trendline\n",
        "z = np.polyfit(x, y, 1)\n",
        "p = np.poly1d(z)\n",
        "\n",
        "# Create the subplot function\n",
        "fig, ax = plt.subplots()\n",
        "\n",
        "# Plot the scatter\n",
        "ax.scatter(x,y)\n",
        "\n",
        "# Plot the trendline\n",
        "ax.plot(x, p(x), color=\"red\")\n",
        "\n",
        "# Titles and axes\n",
        "plt.title(\"NFL Linear Regression totals predictions - Model\")\n",
        "plt.xlabel(\"Predicted Point Total\")\n",
        "plt.ylabel(\"Actual Point Total\")\n",
        "\n",
        "# Plotting some text\n",
        "plt.text(32, 95, 'R-squared = %0.4f' % r2)\n",
        "plt.text(32, 90, \"y = %.2fx + %.2f\"%(z[0],z[1]))\n",
        "plt.text(32, 85, f\"MSE = {mse: .3f}\")\n"
      ],
      "metadata": {
        "id": "Ba4guHyNFu6y"
      },
      "execution_count": null,
      "outputs": []
    },
    {
      "cell_type": "markdown",
      "source": [
        "Okay lets do the same thing, but instead of our predictions, lets use the vegas closing line. This will give us an idea of how close we are getting to the vegas models"
      ],
      "metadata": {
        "id": "-9Y9MpLtUD3S"
      }
    },
    {
      "cell_type": "code",
      "source": [
        "df.dropna(inplace=True)\n",
        "target = df.total_score\n",
        "features = df.total_line\n",
        "\n",
        "# Creating train test split. Test will be 20% of the data\n",
        "X_train, X_test, y_train, y_test = train_test_split(features, target, test_size=0.2, random_state=10)\n",
        "\n",
        "# Have to do a reshape because this is a 1d array now\n",
        "X_train = X_train.values.reshape(-1, 1)\n",
        "X_test = X_test.values.reshape(-1, 1)\n",
        "print(X_train.shape, y_train.shape)"
      ],
      "metadata": {
        "id": "L4SFsnWPUNV_"
      },
      "execution_count": null,
      "outputs": []
    },
    {
      "cell_type": "code",
      "source": [
        "# Create Regression object and fit\n",
        "clf = LinearRegression()\n",
        "clf.fit(X_train, y_train)\n",
        "\n",
        "# Make a prediction based on the fit. Use X_test (20% of the data)\n",
        "y_pred = clf.predict(X_test)\n"
      ],
      "metadata": {
        "id": "hPjMOkDvVfpK"
      },
      "execution_count": null,
      "outputs": []
    },
    {
      "cell_type": "code",
      "source": [
        "# Get some info about the coefficients and how they're impacting the model\n",
        "mod = sm.OLS(y_train,X_train)\n",
        "fii = mod.fit()\n",
        "\n",
        "# Getting some info for graphing later\n",
        "r2 = fii.rsquared\n",
        "mse = mean_squared_error(y_pred, y_test)\n",
        "\n",
        "fii.summary()"
      ],
      "metadata": {
        "id": "rR-xe8l6VjLs"
      },
      "execution_count": null,
      "outputs": []
    },
    {
      "cell_type": "code",
      "source": [
        "plt.style.use('seaborn')\n",
        "\n",
        "# set x and y\n",
        "x = y_pred\n",
        "y = y_test\n",
        "\n",
        "# calculate equation for trendline\n",
        "z = np.polyfit(x, y, 1)\n",
        "p = np.poly1d(z)\n",
        "\n",
        "# Create the subplot function\n",
        "fig, ax = plt.subplots()\n",
        "\n",
        "# Plot the scatter\n",
        "ax.scatter(x,y)\n",
        "\n",
        "# Plot the trendline\n",
        "ax.plot(x, p(x), color=\"red\")\n",
        "\n",
        "# Titles and axes\n",
        "plt.title(\"NFL Linear Regression totals predictions - Vegas\")\n",
        "plt.xlabel(\"Predicted Point Total\")\n",
        "plt.ylabel(\"Actual Point Total\")\n",
        "\n",
        "# Plotting some text\n",
        "plt.text(32, 95, 'R-squared = %0.4f' % r2)\n",
        "plt.text(32, 90, \"y = %.2fx + %.2f\"%(z[0],z[1]))\n",
        "plt.text(32, 85, f\"MSE = {mse: .3f}\")"
      ],
      "metadata": {
        "id": "5ZUl5XxRVm97"
      },
      "execution_count": null,
      "outputs": []
    },
    {
      "cell_type": "code",
      "source": [
        "pred_y_df = pd.DataFrame({\"Actual Value\": y_test, \"Predicted Value\": y_pred, \"model_difference\": y_test - y_pred})\n",
        "pred_y_df"
      ],
      "metadata": {
        "id": "IykGkZefF3dh"
      },
      "execution_count": null,
      "outputs": []
    },
    {
      "cell_type": "markdown",
      "source": [
        "Ok Let's try Random Forest"
      ],
      "metadata": {
        "id": "UeAbna13MSto"
      }
    },
    {
      "cell_type": "code",
      "source": [
        "#Random forest\n",
        "from sklearn.model_selection import train_test_split\n",
        "from sklearn.ensemble import RandomForestRegressor\n",
        "from sklearn.metrics import r2_score, mean_squared_error, mean_absolute_error"
      ],
      "metadata": {
        "id": "MzKAPFpAMVZH"
      },
      "execution_count": null,
      "outputs": []
    },
    {
      "cell_type": "code",
      "source": [
        "df = df.dropna()\n",
        "target = df['score_diff']\n",
        "feature_cols = [column for column in df.columns if 'ewma' in column and 'dynamic' in column]\n",
        "features = df[feature_cols]"
      ],
      "metadata": {
        "id": "bRJnx5AHON_E"
      },
      "execution_count": null,
      "outputs": []
    },
    {
      "cell_type": "code",
      "source": [
        "#Data preprocessing\n",
        "X = features.values\n",
        "y = df['score_diff'].values.reshape(-1, 1)\n",
        "X_train, X_test, y_train, y_test = train_test_split(X, y, test_size=0.1)\n",
        "\n",
        "RF_model = RandomForestRegressor(n_estimators = 2000)\n",
        "\n",
        "RF_model.fit(X_train, y_train)\n",
        "\n",
        "y_pred = RF_model.predict(X_test)\n",
        "\n",
        "print(mean_absolute_error(y_test, y_pred))"
      ],
      "metadata": {
        "id": "BhFOcmgXNIwW",
        "colab": {
          "base_uri": "https://localhost:8080/"
        },
        "outputId": "ccfa5bab-b436-467a-b122-34e6219adae9"
      },
      "execution_count": null,
      "outputs": [
        {
          "output_type": "stream",
          "name": "stderr",
          "text": [
            "<ipython-input-76-598a7d6783df>:8: DataConversionWarning: A column-vector y was passed when a 1d array was expected. Please change the shape of y to (n_samples,), for example using ravel().\n",
            "  RF_model.fit(X_train, y_train)\n"
          ]
        },
        {
          "output_type": "stream",
          "name": "stdout",
          "text": [
            "11.066862344582594\n"
          ]
        }
      ]
    },
    {
      "cell_type": "code",
      "source": [
        "importance = RF_model.feature_importances_\n",
        "\n",
        "feature_names = feature_cols\n",
        "\n",
        "d = {'Var_Name': feature_names, 'Imp': importance}\n",
        "dfRF = pd.DataFrame(data=d)\n",
        "dfRF = dfRF.sort_values(by = ['Imp'], ascending = False).reset_index(drop = True)\n",
        "dfRF.head(10)"
      ],
      "metadata": {
        "id": "Y7f7SbxxNJIU",
        "colab": {
          "base_uri": "https://localhost:8080/",
          "height": 300
        },
        "outputId": "48c1b5f4-bc0e-450d-8312-22a56a64dc20"
      },
      "execution_count": null,
      "outputs": [
        {
          "output_type": "execute_result",
          "data": {
            "text/plain": [
              "                                   Var_Name  Imp\n",
              "0  ewma_dynamic_window_passing_offense_home 0.16\n",
              "1  ewma_dynamic_window_passing_offense_away 0.15\n",
              "2  ewma_dynamic_window_passing_defense_home 0.13\n",
              "3  ewma_dynamic_window_passing_defense_away 0.12\n",
              "4  ewma_dynamic_window_rushing_offense_away 0.11\n",
              "5  ewma_dynamic_window_rushing_offense_home 0.11\n",
              "6  ewma_dynamic_window_rushing_defense_home 0.11\n",
              "7  ewma_dynamic_window_rushing_defense_away 0.11"
            ],
            "text/html": [
              "\n",
              "  <div id=\"df-ca083c61-62fd-4f3e-95f1-c1d385673137\">\n",
              "    <div class=\"colab-df-container\">\n",
              "      <div>\n",
              "<style scoped>\n",
              "    .dataframe tbody tr th:only-of-type {\n",
              "        vertical-align: middle;\n",
              "    }\n",
              "\n",
              "    .dataframe tbody tr th {\n",
              "        vertical-align: top;\n",
              "    }\n",
              "\n",
              "    .dataframe thead th {\n",
              "        text-align: right;\n",
              "    }\n",
              "</style>\n",
              "<table border=\"1\" class=\"dataframe\">\n",
              "  <thead>\n",
              "    <tr style=\"text-align: right;\">\n",
              "      <th></th>\n",
              "      <th>Var_Name</th>\n",
              "      <th>Imp</th>\n",
              "    </tr>\n",
              "  </thead>\n",
              "  <tbody>\n",
              "    <tr>\n",
              "      <th>0</th>\n",
              "      <td>ewma_dynamic_window_passing_offense_home</td>\n",
              "      <td>0.16</td>\n",
              "    </tr>\n",
              "    <tr>\n",
              "      <th>1</th>\n",
              "      <td>ewma_dynamic_window_passing_offense_away</td>\n",
              "      <td>0.15</td>\n",
              "    </tr>\n",
              "    <tr>\n",
              "      <th>2</th>\n",
              "      <td>ewma_dynamic_window_passing_defense_home</td>\n",
              "      <td>0.13</td>\n",
              "    </tr>\n",
              "    <tr>\n",
              "      <th>3</th>\n",
              "      <td>ewma_dynamic_window_passing_defense_away</td>\n",
              "      <td>0.12</td>\n",
              "    </tr>\n",
              "    <tr>\n",
              "      <th>4</th>\n",
              "      <td>ewma_dynamic_window_rushing_offense_away</td>\n",
              "      <td>0.11</td>\n",
              "    </tr>\n",
              "    <tr>\n",
              "      <th>5</th>\n",
              "      <td>ewma_dynamic_window_rushing_offense_home</td>\n",
              "      <td>0.11</td>\n",
              "    </tr>\n",
              "    <tr>\n",
              "      <th>6</th>\n",
              "      <td>ewma_dynamic_window_rushing_defense_home</td>\n",
              "      <td>0.11</td>\n",
              "    </tr>\n",
              "    <tr>\n",
              "      <th>7</th>\n",
              "      <td>ewma_dynamic_window_rushing_defense_away</td>\n",
              "      <td>0.11</td>\n",
              "    </tr>\n",
              "  </tbody>\n",
              "</table>\n",
              "</div>\n",
              "      <button class=\"colab-df-convert\" onclick=\"convertToInteractive('df-ca083c61-62fd-4f3e-95f1-c1d385673137')\"\n",
              "              title=\"Convert this dataframe to an interactive table.\"\n",
              "              style=\"display:none;\">\n",
              "        \n",
              "  <svg xmlns=\"http://www.w3.org/2000/svg\" height=\"24px\"viewBox=\"0 0 24 24\"\n",
              "       width=\"24px\">\n",
              "    <path d=\"M0 0h24v24H0V0z\" fill=\"none\"/>\n",
              "    <path d=\"M18.56 5.44l.94 2.06.94-2.06 2.06-.94-2.06-.94-.94-2.06-.94 2.06-2.06.94zm-11 1L8.5 8.5l.94-2.06 2.06-.94-2.06-.94L8.5 2.5l-.94 2.06-2.06.94zm10 10l.94 2.06.94-2.06 2.06-.94-2.06-.94-.94-2.06-.94 2.06-2.06.94z\"/><path d=\"M17.41 7.96l-1.37-1.37c-.4-.4-.92-.59-1.43-.59-.52 0-1.04.2-1.43.59L10.3 9.45l-7.72 7.72c-.78.78-.78 2.05 0 2.83L4 21.41c.39.39.9.59 1.41.59.51 0 1.02-.2 1.41-.59l7.78-7.78 2.81-2.81c.8-.78.8-2.07 0-2.86zM5.41 20L4 18.59l7.72-7.72 1.47 1.35L5.41 20z\"/>\n",
              "  </svg>\n",
              "      </button>\n",
              "      \n",
              "  <style>\n",
              "    .colab-df-container {\n",
              "      display:flex;\n",
              "      flex-wrap:wrap;\n",
              "      gap: 12px;\n",
              "    }\n",
              "\n",
              "    .colab-df-convert {\n",
              "      background-color: #E8F0FE;\n",
              "      border: none;\n",
              "      border-radius: 50%;\n",
              "      cursor: pointer;\n",
              "      display: none;\n",
              "      fill: #1967D2;\n",
              "      height: 32px;\n",
              "      padding: 0 0 0 0;\n",
              "      width: 32px;\n",
              "    }\n",
              "\n",
              "    .colab-df-convert:hover {\n",
              "      background-color: #E2EBFA;\n",
              "      box-shadow: 0px 1px 2px rgba(60, 64, 67, 0.3), 0px 1px 3px 1px rgba(60, 64, 67, 0.15);\n",
              "      fill: #174EA6;\n",
              "    }\n",
              "\n",
              "    [theme=dark] .colab-df-convert {\n",
              "      background-color: #3B4455;\n",
              "      fill: #D2E3FC;\n",
              "    }\n",
              "\n",
              "    [theme=dark] .colab-df-convert:hover {\n",
              "      background-color: #434B5C;\n",
              "      box-shadow: 0px 1px 3px 1px rgba(0, 0, 0, 0.15);\n",
              "      filter: drop-shadow(0px 1px 2px rgba(0, 0, 0, 0.3));\n",
              "      fill: #FFFFFF;\n",
              "    }\n",
              "  </style>\n",
              "\n",
              "      <script>\n",
              "        const buttonEl =\n",
              "          document.querySelector('#df-ca083c61-62fd-4f3e-95f1-c1d385673137 button.colab-df-convert');\n",
              "        buttonEl.style.display =\n",
              "          google.colab.kernel.accessAllowed ? 'block' : 'none';\n",
              "\n",
              "        async function convertToInteractive(key) {\n",
              "          const element = document.querySelector('#df-ca083c61-62fd-4f3e-95f1-c1d385673137');\n",
              "          const dataTable =\n",
              "            await google.colab.kernel.invokeFunction('convertToInteractive',\n",
              "                                                     [key], {});\n",
              "          if (!dataTable) return;\n",
              "\n",
              "          const docLinkHtml = 'Like what you see? Visit the ' +\n",
              "            '<a target=\"_blank\" href=https://colab.research.google.com/notebooks/data_table.ipynb>data table notebook</a>'\n",
              "            + ' to learn more about interactive tables.';\n",
              "          element.innerHTML = '';\n",
              "          dataTable['output_type'] = 'display_data';\n",
              "          await google.colab.output.renderOutput(dataTable, element);\n",
              "          const docLink = document.createElement('div');\n",
              "          docLink.innerHTML = docLinkHtml;\n",
              "          element.appendChild(docLink);\n",
              "        }\n",
              "      </script>\n",
              "    </div>\n",
              "  </div>\n",
              "  "
            ]
          },
          "metadata": {},
          "execution_count": 77
        }
      ]
    },
    {
      "cell_type": "code",
      "source": [
        "print(y_train.shape)\n",
        "print(y_test.shape)\n",
        "\n",
        "print()"
      ],
      "metadata": {
        "id": "o-bsBvFzPlDz",
        "colab": {
          "base_uri": "https://localhost:8080/"
        },
        "outputId": "9ff9eb50-3b0f-4a20-ad15-9b84f4791579"
      },
      "execution_count": null,
      "outputs": [
        {
          "output_type": "stream",
          "name": "stdout",
          "text": [
            "(5065, 1)\n",
            "(563, 1)\n",
            "\n"
          ]
        }
      ]
    },
    {
      "cell_type": "code",
      "source": [
        "#LOGISTIC\n",
        "import statsmodels.api as sm\n",
        "logit_model=sm.Logit(y_train,X_train)\n",
        "result=logit_model.fit()\n",
        "print(result.summary())"
      ],
      "metadata": {
        "id": "IBL34gl5kM8y",
        "colab": {
          "base_uri": "https://localhost:8080/",
          "height": 356
        },
        "outputId": "c57b685f-42e9-4db1-9cc4-2f639a9cba91"
      },
      "execution_count": null,
      "outputs": [
        {
          "output_type": "error",
          "ename": "ValueError",
          "evalue": "ignored",
          "traceback": [
            "\u001b[0;31m---------------------------------------------------------------------------\u001b[0m",
            "\u001b[0;31mValueError\u001b[0m                                Traceback (most recent call last)",
            "\u001b[0;32m<ipython-input-79-b78666da758d>\u001b[0m in \u001b[0;36m<cell line: 3>\u001b[0;34m()\u001b[0m\n\u001b[1;32m      1\u001b[0m \u001b[0;31m#LOGISTIC\u001b[0m\u001b[0;34m\u001b[0m\u001b[0;34m\u001b[0m\u001b[0m\n\u001b[1;32m      2\u001b[0m \u001b[0;32mimport\u001b[0m \u001b[0mstatsmodels\u001b[0m\u001b[0;34m.\u001b[0m\u001b[0mapi\u001b[0m \u001b[0;32mas\u001b[0m \u001b[0msm\u001b[0m\u001b[0;34m\u001b[0m\u001b[0;34m\u001b[0m\u001b[0m\n\u001b[0;32m----> 3\u001b[0;31m \u001b[0mlogit_model\u001b[0m\u001b[0;34m=\u001b[0m\u001b[0msm\u001b[0m\u001b[0;34m.\u001b[0m\u001b[0mLogit\u001b[0m\u001b[0;34m(\u001b[0m\u001b[0my_train\u001b[0m\u001b[0;34m,\u001b[0m\u001b[0mX_train\u001b[0m\u001b[0;34m)\u001b[0m\u001b[0;34m\u001b[0m\u001b[0;34m\u001b[0m\u001b[0m\n\u001b[0m\u001b[1;32m      4\u001b[0m \u001b[0mresult\u001b[0m\u001b[0;34m=\u001b[0m\u001b[0mlogit_model\u001b[0m\u001b[0;34m.\u001b[0m\u001b[0mfit\u001b[0m\u001b[0;34m(\u001b[0m\u001b[0;34m)\u001b[0m\u001b[0;34m\u001b[0m\u001b[0;34m\u001b[0m\u001b[0m\n\u001b[1;32m      5\u001b[0m \u001b[0mprint\u001b[0m\u001b[0;34m(\u001b[0m\u001b[0mresult\u001b[0m\u001b[0;34m.\u001b[0m\u001b[0msummary\u001b[0m\u001b[0;34m(\u001b[0m\u001b[0;34m)\u001b[0m\u001b[0;34m)\u001b[0m\u001b[0;34m\u001b[0m\u001b[0;34m\u001b[0m\u001b[0m\n",
            "\u001b[0;32m/usr/local/lib/python3.10/dist-packages/statsmodels/discrete/discrete_model.py\u001b[0m in \u001b[0;36m__init__\u001b[0;34m(self, endog, exog, check_rank, **kwargs)\u001b[0m\n\u001b[1;32m    463\u001b[0m         \u001b[0;32mif\u001b[0m \u001b[0;32mnot\u001b[0m \u001b[0missubclass\u001b[0m\u001b[0;34m(\u001b[0m\u001b[0mself\u001b[0m\u001b[0;34m.\u001b[0m\u001b[0m__class__\u001b[0m\u001b[0;34m,\u001b[0m \u001b[0mMultinomialModel\u001b[0m\u001b[0;34m)\u001b[0m\u001b[0;34m:\u001b[0m\u001b[0;34m\u001b[0m\u001b[0;34m\u001b[0m\u001b[0m\n\u001b[1;32m    464\u001b[0m             \u001b[0;32mif\u001b[0m \u001b[0;32mnot\u001b[0m \u001b[0mnp\u001b[0m\u001b[0;34m.\u001b[0m\u001b[0mall\u001b[0m\u001b[0;34m(\u001b[0m\u001b[0;34m(\u001b[0m\u001b[0mself\u001b[0m\u001b[0;34m.\u001b[0m\u001b[0mendog\u001b[0m \u001b[0;34m>=\u001b[0m \u001b[0;36m0\u001b[0m\u001b[0;34m)\u001b[0m \u001b[0;34m&\u001b[0m \u001b[0;34m(\u001b[0m\u001b[0mself\u001b[0m\u001b[0;34m.\u001b[0m\u001b[0mendog\u001b[0m \u001b[0;34m<=\u001b[0m \u001b[0;36m1\u001b[0m\u001b[0;34m)\u001b[0m\u001b[0;34m)\u001b[0m\u001b[0;34m:\u001b[0m\u001b[0;34m\u001b[0m\u001b[0;34m\u001b[0m\u001b[0m\n\u001b[0;32m--> 465\u001b[0;31m                 \u001b[0;32mraise\u001b[0m \u001b[0mValueError\u001b[0m\u001b[0;34m(\u001b[0m\u001b[0;34m\"endog must be in the unit interval.\"\u001b[0m\u001b[0;34m)\u001b[0m\u001b[0;34m\u001b[0m\u001b[0;34m\u001b[0m\u001b[0m\n\u001b[0m\u001b[1;32m    466\u001b[0m \u001b[0;34m\u001b[0m\u001b[0m\n\u001b[1;32m    467\u001b[0m             if (not self._continuous_ok and\n",
            "\u001b[0;31mValueError\u001b[0m: endog must be in the unit interval."
          ]
        }
      ]
    },
    {
      "cell_type": "markdown",
      "source": [
        "## Fuck it Fast AI Time"
      ],
      "metadata": {
        "id": "JGmvjkk7kOO3"
      }
    },
    {
      "cell_type": "code",
      "source": [
        "from fastai.tabular.all import *"
      ],
      "metadata": {
        "id": "97QnqN11kQsp"
      },
      "execution_count": null,
      "outputs": []
    },
    {
      "cell_type": "code",
      "source": [
        "print(feature_cols)"
      ],
      "metadata": {
        "id": "rt1dM9zLni1S"
      },
      "execution_count": null,
      "outputs": []
    },
    {
      "cell_type": "code",
      "source": [
        "fai_df = pd.merge(target, features, right_index=True, left_index=True)\n",
        "fai_df.head()"
      ],
      "metadata": {
        "id": "Vu-AMQ_snu5E"
      },
      "execution_count": null,
      "outputs": []
    },
    {
      "cell_type": "code",
      "source": [
        "splits = RandomSplitter(valid_pct=0.2)(range_of(df))"
      ],
      "metadata": {
        "id": "H9eQOmX6kSHW"
      },
      "execution_count": null,
      "outputs": []
    },
    {
      "cell_type": "code",
      "source": [],
      "metadata": {
        "id": "_G7XimK4kT0D"
      },
      "execution_count": null,
      "outputs": []
    }
  ]
}